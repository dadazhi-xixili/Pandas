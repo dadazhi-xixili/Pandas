{
 "cells": [
  {
   "cell_type": "markdown",
   "metadata": {},
   "source": [
    "## sort_index\n",
    "- 说明：  \n",
    "    - 对DataFrame或Series按索引进行排序\n",
    "    - 根据`axis`参数，指定要排序的轴。\n",
    "    - 可通过`ascending`参数指定排序顺序。\n",
    "- 参数： \n",
    "    - `axis`: int  \n",
    "    轴\n",
    "        - 0：按行索引排序 (默认)\n",
    "        - 1：按列索引排序\n",
    "    - `level`: int | list[int] | None  \n",
    "    多级索引中的级别\n",
    "        - None: 不考虑这个参数 (默认)\n",
    "        - int: 单个索引级别\n",
    "        - list: 多个索引级别\n",
    "    - `ascending`: bool | list[bool]  \n",
    "    排序顺序\n",
    "        - True：升序 (默认)\n",
    "        - False：降序\n",
    "    - `inplace`: bool  \n",
    "    是否修改原DataFrame\n",
    "        - False: 返回新的DataFrame (默认)\n",
    "        - True: 修改原DataFrame\n",
    "    - `kind`: str  \n",
    "    排序算法\n",
    "        - 'quicksort'：快速排序 (默认)\n",
    "        - 'mergesort'：归并排序\n",
    "        - 'heapsort'：堆排序\n",
    "        - 'stable'：稳定排序\n",
    "    - `na_position`: str  \n",
    "    NaN值的位置\n",
    "        - 'last'：NaN值放在最后 (默认)\n",
    "        - 'first'：NaN值放在最前\n",
    "    - `ignore_index`: bool  \n",
    "    是否重置索引\n",
    "        - False: 保留原索引 (默认)\n",
    "        - True: 重置索引\n",
    "    - `key`: callable | None  \n",
    "    自定义排序函数\n",
    "        - None: 不考虑这个参数 (默认)\n",
    "        - callable: 自定义排序函数\n",
    "    - `sort_remaining`: bool  \n",
    "    是否对剩余的索引进行排 (当`level`参数不为None时)\n",
    "        - True：对剩余的索引进行排序 (默认)\n",
    "        - False：不对剩余的索引进行排序\n",
    "\n",
    "|类型\\参数|`axis`|`level`|`ascending`|`inplace`|`kind`|`na_position`|`ignore_index`|`key`|`sort_remaining`|\n",
    "|:-------:|:-------:|:-------:|:-------:|:-------:|:-------:|:-------:|:-------:|:-------:|:-------:|\n",
    "|`DataFrame`|√|√|√|√|√|√|√|√|√|\n",
    "|`Series`|√|√|√|√|√|√|√|√|√|\n"
   ]
  },
  {
   "cell_type": "code",
   "execution_count": 4,
   "metadata": {},
   "outputs": [
    {
     "data": {
      "text/html": [
       "<div>\n",
       "<style scoped>\n",
       "    .dataframe tbody tr th:only-of-type {\n",
       "        vertical-align: middle;\n",
       "    }\n",
       "\n",
       "    .dataframe tbody tr th {\n",
       "        vertical-align: top;\n",
       "    }\n",
       "\n",
       "    .dataframe thead th {\n",
       "        text-align: right;\n",
       "    }\n",
       "</style>\n",
       "<table border=\"1\" class=\"dataframe\">\n",
       "  <thead>\n",
       "    <tr style=\"text-align: right;\">\n",
       "      <th></th>\n",
       "      <th>A</th>\n",
       "    </tr>\n",
       "  </thead>\n",
       "  <tbody>\n",
       "    <tr>\n",
       "      <th>100</th>\n",
       "      <td>1</td>\n",
       "    </tr>\n",
       "    <tr>\n",
       "      <th>29</th>\n",
       "      <td>2</td>\n",
       "    </tr>\n",
       "    <tr>\n",
       "      <th>234</th>\n",
       "      <td>3</td>\n",
       "    </tr>\n",
       "    <tr>\n",
       "      <th>1</th>\n",
       "      <td>4</td>\n",
       "    </tr>\n",
       "    <tr>\n",
       "      <th>150</th>\n",
       "      <td>5</td>\n",
       "    </tr>\n",
       "  </tbody>\n",
       "</table>\n",
       "</div>"
      ],
      "text/plain": [
       "     A\n",
       "100  1\n",
       "29   2\n",
       "234  3\n",
       "1    4\n",
       "150  5"
      ]
     },
     "execution_count": 4,
     "metadata": {},
     "output_type": "execute_result"
    }
   ],
   "source": [
    "import pandas as pd\n",
    "\n",
    "df = pd.DataFrame([1, 2, 3, 4, 5], index=[100, 29, 234, 1, 150], columns=['A'])\n",
    "df"
   ]
  },
  {
   "cell_type": "code",
   "execution_count": 5,
   "metadata": {},
   "outputs": [
    {
     "data": {
      "text/html": [
       "<div>\n",
       "<style scoped>\n",
       "    .dataframe tbody tr th:only-of-type {\n",
       "        vertical-align: middle;\n",
       "    }\n",
       "\n",
       "    .dataframe tbody tr th {\n",
       "        vertical-align: top;\n",
       "    }\n",
       "\n",
       "    .dataframe thead th {\n",
       "        text-align: right;\n",
       "    }\n",
       "</style>\n",
       "<table border=\"1\" class=\"dataframe\">\n",
       "  <thead>\n",
       "    <tr style=\"text-align: right;\">\n",
       "      <th></th>\n",
       "      <th>A</th>\n",
       "    </tr>\n",
       "  </thead>\n",
       "  <tbody>\n",
       "    <tr>\n",
       "      <th>1</th>\n",
       "      <td>4</td>\n",
       "    </tr>\n",
       "    <tr>\n",
       "      <th>29</th>\n",
       "      <td>2</td>\n",
       "    </tr>\n",
       "    <tr>\n",
       "      <th>100</th>\n",
       "      <td>1</td>\n",
       "    </tr>\n",
       "    <tr>\n",
       "      <th>150</th>\n",
       "      <td>5</td>\n",
       "    </tr>\n",
       "    <tr>\n",
       "      <th>234</th>\n",
       "      <td>3</td>\n",
       "    </tr>\n",
       "  </tbody>\n",
       "</table>\n",
       "</div>"
      ],
      "text/plain": [
       "     A\n",
       "1    4\n",
       "29   2\n",
       "100  1\n",
       "150  5\n",
       "234  3"
      ]
     },
     "execution_count": 5,
     "metadata": {},
     "output_type": "execute_result"
    }
   ],
   "source": [
    "df.sort_index()"
   ]
  },
  {
   "cell_type": "code",
   "execution_count": 10,
   "metadata": {},
   "outputs": [
    {
     "data": {
      "text/plain": [
       "29     2\n",
       "1      4\n",
       "100    1\n",
       "234    3\n",
       "150    5\n",
       "Name: A, dtype: int64"
      ]
     },
     "execution_count": 10,
     "metadata": {},
     "output_type": "execute_result"
    }
   ],
   "source": [
    "df.A.sort_index(key=lambda x: x % 2, ascending=False)"
   ]
  }
 ],
 "metadata": {
  "kernelspec": {
   "display_name": "Python 3",
   "language": "python",
   "name": "python3"
  },
  "language_info": {
   "codemirror_mode": {
    "name": "ipython",
    "version": 3
   },
   "file_extension": ".py",
   "mimetype": "text/x-python",
   "name": "python",
   "nbconvert_exporter": "python",
   "pygments_lexer": "ipython3",
   "version": "3.12.4"
  }
 },
 "nbformat": 4,
 "nbformat_minor": 2
}
