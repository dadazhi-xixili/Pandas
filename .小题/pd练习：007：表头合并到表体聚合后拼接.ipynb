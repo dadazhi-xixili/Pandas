{
 "cells": [
  {
   "cell_type": "code",
   "execution_count": 7,
   "metadata": {},
   "outputs": [
    {
     "data": {
      "text/html": [
       "<div>\n",
       "<style scoped>\n",
       "    .dataframe tbody tr th:only-of-type {\n",
       "        vertical-align: middle;\n",
       "    }\n",
       "\n",
       "    .dataframe tbody tr th {\n",
       "        vertical-align: top;\n",
       "    }\n",
       "\n",
       "    .dataframe thead th {\n",
       "        text-align: right;\n",
       "    }\n",
       "</style>\n",
       "<table border=\"1\" class=\"dataframe\">\n",
       "  <thead>\n",
       "    <tr style=\"text-align: right;\">\n",
       "      <th></th>\n",
       "      <th>姓名</th>\n",
       "      <th>日期</th>\n",
       "      <th>上午</th>\n",
       "      <th>下午</th>\n",
       "      <th>晚上</th>\n",
       "    </tr>\n",
       "  </thead>\n",
       "  <tbody>\n",
       "    <tr>\n",
       "      <th>0</th>\n",
       "      <td>张三</td>\n",
       "      <td>2024-10-02</td>\n",
       "      <td>湖北</td>\n",
       "      <td>NaN</td>\n",
       "      <td>NaN</td>\n",
       "    </tr>\n",
       "    <tr>\n",
       "      <th>1</th>\n",
       "      <td>张三</td>\n",
       "      <td>2024-10-02</td>\n",
       "      <td>KTV</td>\n",
       "      <td>湖南</td>\n",
       "      <td>NaN</td>\n",
       "    </tr>\n",
       "    <tr>\n",
       "      <th>2</th>\n",
       "      <td>李四</td>\n",
       "      <td>2024-10-07</td>\n",
       "      <td>上海</td>\n",
       "      <td>NaN</td>\n",
       "      <td>NaN</td>\n",
       "    </tr>\n",
       "    <tr>\n",
       "      <th>3</th>\n",
       "      <td>李四</td>\n",
       "      <td>2024-10-07</td>\n",
       "      <td>NaN</td>\n",
       "      <td>杭州</td>\n",
       "      <td>NaN</td>\n",
       "    </tr>\n",
       "    <tr>\n",
       "      <th>4</th>\n",
       "      <td>王五</td>\n",
       "      <td>2024-10-08</td>\n",
       "      <td>杭州</td>\n",
       "      <td>NaN</td>\n",
       "      <td>NaN</td>\n",
       "    </tr>\n",
       "    <tr>\n",
       "      <th>5</th>\n",
       "      <td>王五</td>\n",
       "      <td>2024-10-08</td>\n",
       "      <td>NaN</td>\n",
       "      <td>宁波</td>\n",
       "      <td>NaN</td>\n",
       "    </tr>\n",
       "    <tr>\n",
       "      <th>6</th>\n",
       "      <td>王五</td>\n",
       "      <td>2024-10-08</td>\n",
       "      <td>NaN</td>\n",
       "      <td>NaN</td>\n",
       "      <td>上海</td>\n",
       "    </tr>\n",
       "  </tbody>\n",
       "</table>\n",
       "</div>"
      ],
      "text/plain": [
       "   姓名          日期   上午   下午   晚上\n",
       "0  张三  2024-10-02   湖北  NaN  NaN\n",
       "1  张三  2024-10-02  KTV   湖南  NaN\n",
       "2  李四  2024-10-07   上海  NaN  NaN\n",
       "3  李四  2024-10-07  NaN   杭州  NaN\n",
       "4  王五  2024-10-08   杭州  NaN  NaN\n",
       "5  王五  2024-10-08  NaN   宁波  NaN\n",
       "6  王五  2024-10-08  NaN  NaN   上海"
      ]
     },
     "execution_count": 7,
     "metadata": {},
     "output_type": "execute_result"
    }
   ],
   "source": [
    "import pandas as pd\n",
    "\n",
    "df = pd.read_excel('pd练习：007：表头合并到表体聚合后拼接.xlsx', nrows=7)\n",
    "df.日期 = pd.to_datetime(df.日期, unit='D', origin='1899-12-30').dt.strftime('%Y-%m-%d')\n",
    "df"
   ]
  },
  {
   "cell_type": "code",
   "execution_count": 25,
   "metadata": {},
   "outputs": [
    {
     "data": {
      "text/plain": [
       "姓名  日期        \n",
       "张三  2024-10-02    上午湖北;上午KTV;下午湖南\n",
       "李四  2024-10-07          上午上海;下午杭州\n",
       "王五  2024-10-08     上午杭州;下午宁波;晚上上海\n",
       "dtype: object"
      ]
     },
     "execution_count": 25,
     "metadata": {},
     "output_type": "execute_result"
    }
   ],
   "source": [
    "df.melt(id_vars=['姓名', '日期'], var_name='x', value_name='y').dropna().groupby(\n",
    "    ['姓名', '日期']\n",
    ").apply(lambda s: ';'.join(s.x + s.y), include_groups=False)"
   ]
  }
 ],
 "metadata": {
  "kernelspec": {
   "display_name": "Python 3",
   "language": "python",
   "name": "python3"
  },
  "language_info": {
   "codemirror_mode": {
    "name": "ipython",
    "version": 3
   },
   "file_extension": ".py",
   "mimetype": "text/x-python",
   "name": "python",
   "nbconvert_exporter": "python",
   "pygments_lexer": "ipython3",
   "version": "3.12.4"
  }
 },
 "nbformat": 4,
 "nbformat_minor": 2
}
