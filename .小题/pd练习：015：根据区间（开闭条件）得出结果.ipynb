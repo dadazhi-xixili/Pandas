{
 "cells": [
  {
   "cell_type": "code",
   "execution_count": 1,
   "metadata": {},
   "outputs": [
    {
     "data": {
      "text/html": [
       "<div>\n",
       "<style scoped>\n",
       "    .dataframe tbody tr th:only-of-type {\n",
       "        vertical-align: middle;\n",
       "    }\n",
       "\n",
       "    .dataframe tbody tr th {\n",
       "        vertical-align: top;\n",
       "    }\n",
       "\n",
       "    .dataframe thead th {\n",
       "        text-align: right;\n",
       "    }\n",
       "</style>\n",
       "<table border=\"1\" class=\"dataframe\">\n",
       "  <thead>\n",
       "    <tr style=\"text-align: right;\">\n",
       "      <th></th>\n",
       "      <th>指标名称</th>\n",
       "      <th>低风险阈值</th>\n",
       "      <th>中风险阈值</th>\n",
       "      <th>高风险阈值</th>\n",
       "      <th>指标值</th>\n",
       "    </tr>\n",
       "  </thead>\n",
       "  <tbody>\n",
       "    <tr>\n",
       "      <th>0</th>\n",
       "      <td>指标A</td>\n",
       "      <td>(70%,100%]</td>\n",
       "      <td>[10%,70%]</td>\n",
       "      <td>[0,10%)</td>\n",
       "      <td>0.80</td>\n",
       "    </tr>\n",
       "    <tr>\n",
       "      <th>1</th>\n",
       "      <td>指标B</td>\n",
       "      <td>[90%,110%]</td>\n",
       "      <td>[80%,90%)或(110%,120%]</td>\n",
       "      <td>[0,80%)或(120%,+∞]</td>\n",
       "      <td>0.75</td>\n",
       "    </tr>\n",
       "    <tr>\n",
       "      <th>2</th>\n",
       "      <td>指标C</td>\n",
       "      <td>100%</td>\n",
       "      <td>(85%,100%)</td>\n",
       "      <td>[0,85%]</td>\n",
       "      <td>1.00</td>\n",
       "    </tr>\n",
       "  </tbody>\n",
       "</table>\n",
       "</div>"
      ],
      "text/plain": [
       "  指标名称       低风险阈值                  中风险阈值              高风险阈值   指标值\n",
       "0  指标A  (70%,100%]              [10%,70%]            [0,10%)  0.80\n",
       "1  指标B  [90%,110%]  [80%,90%)或(110%,120%]  [0,80%)或(120%,+∞]  0.75\n",
       "2  指标C        100%             (85%,100%)            [0,85%]  1.00"
      ]
     },
     "execution_count": 1,
     "metadata": {},
     "output_type": "execute_result"
    }
   ],
   "source": [
    "import pandas as pd\n",
    "\n",
    "df = pd.read_excel('pd练习：015：根据区间（开闭条件）得出结果.xlsx', usecols='A:E')\n",
    "df"
   ]
  },
  {
   "cell_type": "code",
   "execution_count": 88,
   "metadata": {},
   "outputs": [
    {
     "data": {
      "text/plain": [
       "0    低风险阈值\n",
       "1    高风险阈值\n",
       "2    低风险阈值\n",
       "dtype: object"
      ]
     },
     "execution_count": 88,
     "metadata": {},
     "output_type": "execute_result"
    }
   ],
   "source": [
    "df.iloc[:, 1:].apply(\n",
    "    lambda x: x.iloc[:-1]\n",
    "    .str.replace(\n",
    "        r'(?:\\(|\\[)(\\d+)%?,(\\d+|\\+∞)%?(?:\\)|\\])',\n",
    "        rf'((\\1<={(n:=x.iloc[-1]*100)})&({n}<\\2))',\n",
    "        regex=True,\n",
    "    )\n",
    "    .str.replace(r'或', '|')\n",
    "    .str.replace('+∞', '9999')\n",
    "    .str.replace(r'(\\d+)%', rf'{n}==\\1', regex=True)\n",
    "    .map(eval)\n",
    "    .idxmax(),\n",
    "    axis=1,\n",
    ")"
   ]
  },
  {
   "cell_type": "code",
   "execution_count": null,
   "metadata": {},
   "outputs": [
    {
     "data": {
      "text/html": [
       "<div>\n",
       "<style scoped>\n",
       "    .dataframe tbody tr th:only-of-type {\n",
       "        vertical-align: middle;\n",
       "    }\n",
       "\n",
       "    .dataframe tbody tr th {\n",
       "        vertical-align: top;\n",
       "    }\n",
       "\n",
       "    .dataframe thead th {\n",
       "        text-align: right;\n",
       "    }\n",
       "</style>\n",
       "<table border=\"1\" class=\"dataframe\">\n",
       "  <thead>\n",
       "    <tr style=\"text-align: right;\">\n",
       "      <th></th>\n",
       "      <th>指标名称</th>\n",
       "      <th>低风险阈值</th>\n",
       "      <th>中风险阈值</th>\n",
       "      <th>高风险阈值</th>\n",
       "      <th>指标值</th>\n",
       "      <th>风险等级</th>\n",
       "    </tr>\n",
       "  </thead>\n",
       "  <tbody>\n",
       "    <tr>\n",
       "      <th>0</th>\n",
       "      <td>指标A</td>\n",
       "      <td>(70%,100%]</td>\n",
       "      <td>[10%,70%]</td>\n",
       "      <td>[0,10%)</td>\n",
       "      <td>0.80</td>\n",
       "      <td>低</td>\n",
       "    </tr>\n",
       "    <tr>\n",
       "      <th>1</th>\n",
       "      <td>指标B</td>\n",
       "      <td>[90%,110%]</td>\n",
       "      <td>[80%,90%)或(110%,120%]</td>\n",
       "      <td>[0,80%)或(120%,+∞]</td>\n",
       "      <td>0.75</td>\n",
       "      <td>高</td>\n",
       "    </tr>\n",
       "    <tr>\n",
       "      <th>2</th>\n",
       "      <td>指标C</td>\n",
       "      <td>100%</td>\n",
       "      <td>(85%,100%)</td>\n",
       "      <td>[0,85%]</td>\n",
       "      <td>1.00</td>\n",
       "      <td>低</td>\n",
       "    </tr>\n",
       "  </tbody>\n",
       "</table>\n",
       "</div>"
      ],
      "text/plain": [
       "  指标名称       低风险阈值                  中风险阈值              高风险阈值   指标值 风险等级\n",
       "0  指标A  (70%,100%]              [10%,70%]            [0,10%)  0.80    低\n",
       "1  指标B  [90%,110%]  [80%,90%)或(110%,120%]  [0,80%)或(120%,+∞]  0.75    高\n",
       "2  指标C        100%             (85%,100%)            [0,85%]  1.00    低"
      ]
     },
     "execution_count": 105,
     "metadata": {},
     "output_type": "execute_result"
    }
   ],
   "source": [
    "df2 = (\n",
    "    df.iloc[:, :-1]\n",
    "    .melt('指标名称', var_name='风险等级')\n",
    "    .assign(\n",
    "        value=lambda x: x.value.str.replace('+∞', r'9999%').str.split('或'),\n",
    "        风险等级=lambda x: x.风险等级.str[0],\n",
    "    )\n",
    "    .explode('value')\n",
    ")\n",
    "df2[[0, 1]] = df2.value.str.extract(r'(\\d+)%?,?(\\d+)?')\n",
    "df2[1] = df2[1].fillna(df2[0])\n",
    "df2[[0, 1]] = df2[[0, 1]].astype(float) / 100\n",
    "df2.drop('value', axis=1, inplace=True)\n",
    "g = df2.groupby('指标名称')\n",
    "\n",
    "def get_g(S: pd.Series) -> str:\n",
    "    df = g.get_group(S.指标名称)\n",
    "    a = df[0] <= S.指标值\n",
    "    b = df[1] > S.指标值\n",
    "    c = (df[[0, 1]] == S.指标值).all(axis=1)\n",
    "    r = ';'.join(df.loc[(a & b) | c, '风险等级'])\n",
    "    return r\n",
    "\n",
    "df['风险等级'] = df.apply(get_g, axis=1)\n",
    "df"
   ]
  }
 ],
 "metadata": {
  "kernelspec": {
   "display_name": "Python 3",
   "language": "python",
   "name": "python3"
  },
  "language_info": {
   "codemirror_mode": {
    "name": "ipython",
    "version": 3
   },
   "file_extension": ".py",
   "mimetype": "text/x-python",
   "name": "python",
   "nbconvert_exporter": "python",
   "pygments_lexer": "ipython3",
   "version": "3.12.6"
  }
 },
 "nbformat": 4,
 "nbformat_minor": 2
}
