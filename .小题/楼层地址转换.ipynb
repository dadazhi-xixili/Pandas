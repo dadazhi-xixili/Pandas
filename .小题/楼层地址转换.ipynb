{
 "cells": [
  {
   "cell_type": "code",
   "execution_count": 51,
   "metadata": {},
   "outputs": [
    {
     "data": {
      "text/plain": [
       "0         1楼1单元1层1户\n",
       "1         1楼1单元1层2户\n",
       "2         1楼1单元2层1户\n",
       "3         1楼1单元2层2户\n",
       "4         1楼1单元3层1户\n",
       "           ...     \n",
       "6659     6楼7单元31层8户\n",
       "6660     6楼7单元31层9户\n",
       "6661    6楼7单元31层10户\n",
       "6662    6楼7单元31层11户\n",
       "6663    6楼7单元31层12户\n",
       "Length: 6664, dtype: object"
      ]
     },
     "execution_count": 51,
     "metadata": {},
     "output_type": "execute_result"
    }
   ],
   "source": [
    "import pandas as pd\n",
    "\n",
    "df = pd.read_excel(\n",
    "    '楼层地址转换.xlsx',\n",
    "    header=[0],\n",
    "    usecols='B:E',\n",
    "    skiprows=1, \n",
    "    nrows=6,\n",
    "    index_col='楼号'\n",
    ")\n",
    "df = df.map(pd.RangeIndex)\n",
    "for col in df.columns:\n",
    "    df = df.explode(col)\n",
    "df += 1\n",
    "(df.reset_index().astype('str') + ['楼', '单元', '层', '户']).apply(''.join, axis=1)"
   ]
  }
 ],
 "metadata": {
  "kernelspec": {
   "display_name": "Python 3",
   "language": "python",
   "name": "python3"
  },
  "language_info": {
   "codemirror_mode": {
    "name": "ipython",
    "version": 3
   },
   "file_extension": ".py",
   "mimetype": "text/x-python",
   "name": "python",
   "nbconvert_exporter": "python",
   "pygments_lexer": "ipython3",
   "version": "3.12.4"
  }
 },
 "nbformat": 4,
 "nbformat_minor": 2
}
