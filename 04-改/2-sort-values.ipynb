{
 "cells": [
  {
   "cell_type": "markdown",
   "metadata": {},
   "source": [
    "## sort_values\n",
    "- 说明：  \n",
    "    - 对DataFrame或Series按值进行排序\n",
    "    - 根据`by`参数给出的子集，指定要排序的列或行。\n",
    "    - 可通过`ascending`参数指定排序顺序。\n",
    "- 参数： \n",
    "    - `by`: scalar | list  \n",
    "    要排序的列或行标签\n",
    "    - `axis`: int  \n",
    "    轴\n",
    "        - 0：按行排序 (默认)\n",
    "        - 1：按列排序\n",
    "    - `ascending`: bool | list  \n",
    "    排序顺序\n",
    "        - True：升序 (默认)\n",
    "        - False：降序\n",
    "    - `inplace`: bool  \n",
    "    是否修改原DataFrame\n",
    "        - False: 返回新的DataFrame (默认)\n",
    "        - True: 修改原DataFrame\n",
    "    - `kind`: str  \n",
    "    排序算法\n",
    "        - 'quicksort'：快速排序 (默认)\n",
    "        - 'mergesort'：归并排序\n",
    "        - 'heapsort'：堆排序\n",
    "        - 'stable'：稳定排序\n",
    "    - `na_position`: str  \n",
    "    NaN值的位置\n",
    "        - 'last'：NaN值放在最后 (默认)\n",
    "        - 'first'：NaN值放在最前\n",
    "    - `ignore_index`: bool  \n",
    "    是否重置索引\n",
    "        - False: 保留原索引 (默认)\n",
    "        - True: 重置索引\n",
    "    - `key`: callable | None  \n",
    "    自定义排序函数\n",
    "        - None: 不考虑这个参数 (默认)\n",
    "        - callable: 自定义排序函数\n",
    "    - `return_indexer`: bool  \n",
    "    是否返回排序的索引,从0到n-1\n",
    "        - False: 不返回排序的索引 (默认)\n",
    "        - True: 返回排序的索引\n",
    "\n",
    "|类型\\参数|`by`|`axis`|`ascending`|`inplace`|`kind`|`na_position`|`ignore_index`|`key`|`return_indexer`|\n",
    "|:-------:|:-------:|:-------:|:-------:|:-------:|:-------:|:-------:|:-------:|:-------:|:-------:|\n",
    "|`DataFrame`|√|√|√|√|√|√|√|√||\n",
    "|`Series`|||√|√|√|√|√|√||\n",
    "|`Index`|||√|||√||√|√|\n"
   ]
  }
 ],
 "metadata": {
  "language_info": {
   "name": "python"
  }
 },
 "nbformat": 4,
 "nbformat_minor": 2
}
