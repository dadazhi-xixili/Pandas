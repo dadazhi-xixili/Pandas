{
 "cells": [
  {
   "cell_type": "markdown",
   "metadata": {},
   "source": [
    "构建 MultIndex\n",
    "\n",
    "- levels: `Iterable[Iterable[Object]]`  \n",
    "    `Iterable`中的每个`Iterable`为对应层级的数据\n",
    "- codes: `Iterable[Iterable[int]]`  \n",
    "    `Iterable`中的每个`Iterable`为对应层级`levels`的索引值\n",
    "- sortorder:  \n",
    "    `None`: 默认不排序  \n",
    "    `int`: 排序级别\n",
    "- names: `Iterable[Object]`  \n",
    "    对应层级名称\n",
    "- dtype:  \n",
    "    试验中好像没用\n",
    "- copy:  \n",
    "    是否复制数据\n",
    "- verify_integrity:  \n",
    "    是否验证数据\n",
    "\n",
    "```python\n",
    "pandas.MultiIndex(levels=None, codes=None, sortorder=None, names=None, dtype=None, copy=False, name=None, verify_integrity=True) -> pandas.MultiIndex"
   ]
  },
  {
   "cell_type": "code",
   "execution_count": 42,
   "metadata": {},
   "outputs": [
    {
     "data": {
      "text/plain": [
       "MultiIndex([('A', 'a'),\n",
       "            ('A', 'b'),\n",
       "            ('A', 'c'),\n",
       "            ('B', 'a'),\n",
       "            ('B', 'b'),\n",
       "            ('B', 'c')],\n",
       "           )"
      ]
     },
     "execution_count": 42,
     "metadata": {},
     "output_type": "execute_result"
    }
   ],
   "source": [
    "import pandas as pd\n",
    "\n",
    "levels = [['A', 'B'], ['a', 'b', 'c']]\n",
    "codes = [[0, 0, 0, 1, 1, 1], [0, 1, 2, 0, 1, 2]]\n",
    "pd.MultiIndex(levels=levels, codes=codes)"
   ]
  },
  {
   "cell_type": "code",
   "execution_count": 40,
   "metadata": {},
   "outputs": [
    {
     "data": {
      "text/plain": [
       "MultiIndex([('A', 1),\n",
       "            ('A', 2),\n",
       "            ('A', 3),\n",
       "            ('B', 1),\n",
       "            ('B', 2),\n",
       "            ('B', 3)],\n",
       "           names=['one', 'two'])"
      ]
     },
     "execution_count": 40,
     "metadata": {},
     "output_type": "execute_result"
    }
   ],
   "source": [
    "levels = [['A', 'B'], [1, 2, 3]]\n",
    "codes = [[0, 0, 0, 1, 1, 1], [0, 1, 2, 0, 1, 2]]\n",
    "pd.MultiIndex(levels=levels, codes=codes, dtype=str, name=('one', 'two'))"
   ]
  }
 ],
 "metadata": {
  "kernelspec": {
   "display_name": "Python 3",
   "language": "python",
   "name": "python3"
  },
  "language_info": {
   "codemirror_mode": {
    "name": "ipython",
    "version": 3
   },
   "file_extension": ".py",
   "mimetype": "text/x-python",
   "name": "python",
   "nbconvert_exporter": "python",
   "pygments_lexer": "ipython3",
   "version": "3.12.6"
  }
 },
 "nbformat": 4,
 "nbformat_minor": 2
}
