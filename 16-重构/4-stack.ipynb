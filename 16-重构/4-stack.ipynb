{
 "cells": [
  {
   "cell_type": "markdown",
   "metadata": {},
   "source": [
    "## stack\n",
    "- 说明：  \n",
    "    - 将DataFrame的列索引转换为行索引，生成一个长格式的DataFrame或Series。\n",
    "    - 根据`level`参数，指定要堆叠的级别。\n",
    "    \n",
    "- 参数： \n",
    "    - `level`: int | str | list[int | str] | None  \n",
    "    要堆叠的级别\n",
    "        - None: 堆叠所有级别 (默认)\n",
    "        - int: 单个索引级别\n",
    "        - str: 单个索引级别名称\n",
    "        - list: 多个索引级别或名称\n",
    "    - `dropna`: bool  \n",
    "    是否删除所有值为NaN的行\n",
    "        - True: 删除 (默认)\n",
    "        - False: 保留\n",
    "    - `sort`: bool  \n",
    "    是否对结果进行排序\n",
    "        - True: 排序 (默认)\n",
    "        - False: 不排序\n",
    "\n",
    "|类型\\参数|`level`|`dropna`|`sort`|\n",
    "|:-------:|:-------:|:-------:|:-------:|\n",
    "|`DataFrame`|√|√|√|\n",
    "|`Series`|√|√|√|\n"
   ]
  },
  {
   "cell_type": "code",
   "execution_count": 11,
   "metadata": {},
   "outputs": [
    {
     "data": {
      "text/html": [
       "<div>\n",
       "<style scoped>\n",
       "    .dataframe tbody tr th:only-of-type {\n",
       "        vertical-align: middle;\n",
       "    }\n",
       "\n",
       "    .dataframe tbody tr th {\n",
       "        vertical-align: top;\n",
       "    }\n",
       "\n",
       "    .dataframe thead tr th {\n",
       "        text-align: left;\n",
       "    }\n",
       "</style>\n",
       "<table border=\"1\" class=\"dataframe\">\n",
       "  <thead>\n",
       "    <tr>\n",
       "      <th></th>\n",
       "      <th colspan=\"2\" halign=\"left\">weight</th>\n",
       "    </tr>\n",
       "    <tr>\n",
       "      <th></th>\n",
       "      <th>kg</th>\n",
       "      <th>pounds</th>\n",
       "    </tr>\n",
       "  </thead>\n",
       "  <tbody>\n",
       "    <tr>\n",
       "      <th>cat</th>\n",
       "      <td>1</td>\n",
       "      <td>2</td>\n",
       "    </tr>\n",
       "    <tr>\n",
       "      <th>dog</th>\n",
       "      <td>2</td>\n",
       "      <td>4</td>\n",
       "    </tr>\n",
       "  </tbody>\n",
       "</table>\n",
       "</div>"
      ],
      "text/plain": [
       "    weight       \n",
       "        kg pounds\n",
       "cat      1      2\n",
       "dog      2      4"
      ]
     },
     "execution_count": 11,
     "metadata": {},
     "output_type": "execute_result"
    }
   ],
   "source": [
    "import pandas as pd\n",
    "\n",
    "df = pd.DataFrame(\n",
    "    [[1, 2], [2, 4]],\n",
    "    index=['cat', 'dog'],\n",
    "    columns=pd.MultiIndex.from_tuples([('weight', 'kg'), ('weight', 'pounds')]),\n",
    ")\n",
    "df"
   ]
  },
  {
   "cell_type": "code",
   "execution_count": 20,
   "metadata": {},
   "outputs": [
    {
     "data": {
      "text/plain": [
       "cat  weight  kg        1\n",
       "             pounds    2\n",
       "dog  weight  kg        2\n",
       "             pounds    4\n",
       "dtype: int64"
      ]
     },
     "execution_count": 20,
     "metadata": {},
     "output_type": "execute_result"
    }
   ],
   "source": [
    "df.stack(future_stack=True,level=[0,1])"
   ]
  }
 ],
 "metadata": {
  "kernelspec": {
   "display_name": "Python 3",
   "language": "python",
   "name": "python3"
  },
  "language_info": {
   "codemirror_mode": {
    "name": "ipython",
    "version": 3
   },
   "file_extension": ".py",
   "mimetype": "text/x-python",
   "name": "python",
   "nbconvert_exporter": "python",
   "pygments_lexer": "ipython3",
   "version": "3.12.4"
  }
 },
 "nbformat": 4,
 "nbformat_minor": 2
}
