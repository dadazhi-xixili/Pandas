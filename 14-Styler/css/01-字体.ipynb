{
 "cells": [
  {
   "cell_type": "markdown",
   "metadata": {},
   "source": [
    "## font-family\n",
    "设置文本字体   \n",
    "常见字体：宋体、黑体、正楷、等线、微软雅黑等等"
   ]
  },
  {
   "cell_type": "markdown",
   "metadata": {},
   "source": [
    "## font-size\n",
    "设置文本字体大小    \n",
    "\n",
    "|单位|描述|\n",
    "|:---|:---|\n",
    "|px|绝对单位，以像素为单位|\n",
    "|mm|绝对单位，以毫米为单位|\n",
    "|cm|绝对单位，以厘米为单位|\n",
    "|in|绝对单位，以英寸为单位|\n",
    "|pt|绝对单位，以点为单位|\n",
    "|pc|绝对单位，以 printer 的 1/72 英寸为单位|\n",
    "|%|百分比，相对于父元素的字体大小|\n",
    "|em|相对单位，相对于父元素字体大小|\n",
    "|rem|相对于根元素（html）的字体大小。1rem等于根元素的字体大小。|\n",
    "|ex|相对单位，相对于当前字体的 x 高度|\n",
    "|ch|相对单位，相对于当前字体的 x 宽度|\n",
    "|rem|相对单位，相对于根元素字体大小|\n",
    "|vw|相对视口宽度|\n",
    "|vh|相对视口高度|\n",
    "|vmin|相对视口较小边|"
   ]
  },
  {
   "cell_type": "markdown",
   "metadata": {},
   "source": [
    "## font-style\n",
    "设置文本斜体  \n",
    "\n",
    "|值|描述|\n",
    "|:---|:---|\n",
    "|normal|正常（默认）|\n",
    "|italic|斜体|\n",
    "|oblique|倾斜体|\n",
    "|inherit|继承父元素样式|"
   ]
  },
  {
   "cell_type": "markdown",
   "metadata": {},
   "source": [
    "## font-weight\n",
    "设置文本粗细  \n",
    "int值：100-900\n",
    "\n",
    "|值|描述|对应int值|\n",
    "|:---|:---|:---|\n",
    "|normal（默认）|正常|400|\n",
    "|light|细体|300|\n",
    "|lighter|比父类更细||\n",
    "|bold|粗体|700|\n",
    "|bolder|比父类更粗||\n",
    "|inherit|继承父元素样式|"
   ]
  },
  {
   "cell_type": "markdown",
   "metadata": {},
   "source": [
    "## `ext-transform\n",
    "设置文本大小写\n",
    "\n",
    "|值|描述|\n",
    "|:---|:---|\n",
    "|none|不转换（默认）|\n",
    "|capitalize|将每个单词的首字母转换为大写|\n",
    "|uppercase|将所有字母转换为大写|\n",
    "|lowercase|将所有字母转换为小写|\n",
    "|full-width|将所有字母转换为全角|\n",
    "|inherit|继承父元素样式|"
   ]
  },
  {
   "cell_type": "markdown",
   "metadata": {},
   "source": [
    "## text-decoration\n",
    "设置文本装饰线\n",
    "\n",
    "|值|描述|\n",
    "|:---|:---|\n",
    "|none|无（默认）|\n",
    "|underline|下划线|\n",
    "|overline|上划线|\n",
    "|line-through|删除线|\n",
    "|inherit|继承父元素样式|"
   ]
  },
  {
   "cell_type": "markdown",
   "metadata": {},
   "source": [
    "## line-heigh\n",
    "设置行间距  \n",
    "默认值：1.2(字体大小倍数)  \n",
    "\n",
    "|单位|描述|\n",
    "|:---|:---|\n",
    "|em|相对于当前字体大小|\n",
    "|ex|相对于当前字体大小|\n",
    "|px|像素|\n",
    "|pt|1/72 英寸|\n"
   ]
  },
  {
   "cell_type": "markdown",
   "metadata": {},
   "source": [
    "## text-align\n",
    "设置文本水平对齐方式。\n",
    "\n",
    "|值| 描述|\n",
    "|:---|:---|\n",
    "|left| 左对齐（默认）|\n",
    "|right| 右对齐|\n",
    "|center| 居中对齐（Styler默认)|\n",
    "|justify| 两端对齐|\n",
    "|inherit| 继承父元素样式|"
   ]
  }
 ],
 "metadata": {
  "language_info": {
   "name": "python"
  }
 },
 "nbformat": 4,
 "nbformat_minor": 2
}
