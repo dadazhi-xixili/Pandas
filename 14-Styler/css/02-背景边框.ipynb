{
 "cells": [
  {
   "cell_type": "markdown",
   "metadata": {},
   "source": [
    "## background-color\n",
    "设置背景颜色\n"
   ]
  },
  {
   "cell_type": "markdown",
   "metadata": {},
   "source": [
    "## border\n",
    "同时设置边框    宽度 样式 颜色  \n",
    "输入顺序固定    \n",
    "如果缺少 border-color：将使用元素的 color 属性作为边框颜色。    \n",
    "如果缺少 border-style：边框将不会显示，即使宽度和颜色被设置了。因为 border-style 不能继承父元素的值，所以如果没有设置样式，默认是 none。    \n",
    "如果缺少 border-width：如果同时省略了 border-style，则边框不会显示。如果只省略了宽度，样式和颜色，边框将使用浏览器的默认宽度（通常是 medium）。     \n",
    "\n",
    "\n",
    "设置方法 参考下列内容   "
   ]
  },
  {
   "cell_type": "markdown",
   "metadata": {
    "vscode": {
     "languageId": "plaintext"
    }
   },
   "source": [
    "\n",
    "## border-width\n",
    "设置边框的宽度\n",
    "- border-top-width  \n",
    "设置上边框的宽度\n",
    "- border-right-width  \n",
    "设置右边框的宽度\n",
    "- border-bottom-width  \n",
    "设置下边框的宽度\n",
    "- border-left-width  \n",
    "设置左边框的宽度\n",
    "\n",
    "|关键字|描述|近似像素值\n",
    "|:---|:---|:---\n",
    "|thin|非常细的边框|1px\n",
    "|medium|中等粗细的边框|3px\n",
    "|thick|较粗的边框|5px"
   ]
  },
  {
   "cell_type": "markdown",
   "metadata": {
    "vscode": {
     "languageId": "plaintext"
    }
   },
   "source": [
    "## border-style\n",
    "设置边框的样式\n",
    "- border-top-style  \n",
    "设置上边框的样式\n",
    "- border-left-style  \n",
    "设置左边框的样式\n",
    "- border-right-style  \n",
    "设置右边框的样式\n",
    "- border-bottom-style  \n",
    "设置下边框的样式\n",
    "\n",
    "| 值 |描述|\n",
    "|:---|:---|\n",
    "|none|无边框（默认）\n",
    "|hidden|与 none 相同，但通常用于表格边框，可以解决一些边框冲突的问题。\n",
    "|dotted|点状边框\n",
    "|dashed|虚线边框\n",
    "|solid|实线边框\n",
    "|double|双线边框\n",
    "|groove|3D凹槽边框\n",
    "|ridge|3D凸起边框\n",
    "|inset|3D凹入边框\n",
    "|outset|3D凸出边框\n",
    "|inherit|从父元素继承边框样式。"
   ]
  },
  {
   "cell_type": "markdown",
   "metadata": {},
   "source": [
    "## border-color\n",
    "设置边框颜色  \n",
    "默认为字体颜色\n",
    "- border-top-color  \n",
    "设置上边框颜色\n",
    "- border-right-color  \n",
    "设置右边框颜色\n",
    "- border-bottom-color  \n",
    "设置下边框颜色\n",
    "- border-left-color  \n",
    "设置左边框颜色"
   ]
  }
 ],
 "metadata": {
  "language_info": {
   "name": "python"
  }
 },
 "nbformat": 4,
 "nbformat_minor": 2
}
