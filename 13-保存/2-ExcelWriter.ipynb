{
 "cells": [
  {
   "cell_type": "markdown",
   "metadata": {},
   "source": [
    "# `pandas.ExcelWriter` \n",
    "\n",
    "## 参数：\n",
    "- **path**: 文件路径、ExcelWriter对象或类似文件的对象。\n",
    "- **engine**: 写入引擎，可选值包括：\n",
    "  1. `openpyxl`：用于`.xlsx`文件。\n",
    "  0. `xlsxwriter`：用于`.xlsx`文件。\n",
    "  0. `pyxlsb`：用于`.xlsb`文件。\n",
    "  0. `odf`：用于`.ods`文件。\n",
    "- **mode**: 文件写入模式。\n",
    "  1. `'w'`  写入模式（默认）\n",
    "  0. `'a'`  追加模式。\n",
    "- **date_format**: 日期格式字符串。\n",
    "  1. `Y` : 年\n",
    "  0. `M` : 月\n",
    "  0. `D` : 日\n",
    "\n",
    "- **datetime_format**: 日期时间格式字符串。\n",
    "  1. `H` : 小时\n",
    "  0. `m` : 分钟\n",
    "  0. `s` : 秒\n",
    "- **if_sheet_exists**: 如果工作表已存在时的行为，可选值包括：\n",
    "  1. 'error'：默认选项，如果工作表存在则引发错误。\n",
    "  0. 'new'：创建一个新的工作表。\n",
    "  0. 'replace'：替换现有的工作表。\n",
    "  0. 'overlay'：在现有工作表上覆盖数据。\n",
    "- **engine_kwargs**: 传递给引擎的关键字参数。\n",
    "\n",
    "## 方法：\n",
    "- **write()**: 将DataFrame写入Excel文件。\n",
    "- **close()**: 关闭ExcelWriter对象并保存文件。\n",
    "- **sheets()**: 返回一个字典，键是工作表名称，值是对应的工作表对象。\n",
    "- **engine**: 返回使用的引擎。\n",
    "- **if_sheet_exists**: 返回当前工作表是否存在的设置。\n",
    "- **supported_extensions**: 返回支持的扩展名列表。"
   ]
  },
  {
   "cell_type": "code",
   "execution_count": 33,
   "metadata": {},
   "outputs": [],
   "source": [
    "import pandas as pd\n",
    "df1=pd.read_csv(\n",
    "    filepath_or_buffer=r'..\\0-data\\beijing_tianqi\\beijing_tianqi_2017-2019.csv',\n",
    "    sep=',',\n",
    "    skiprows=1,\n",
    "    header=None,\n",
    "    names=['日期','最高温度','最低温度','天气','风向','风速','空气指数','空气质量','空气质量等级'],\n",
    "    dtype={'空气指数':'int8','空气质量等级':'int8'},\n",
    "    parse_dates=['日期'],\n",
    "    date_format='%Y-%m-%d',\n",
    "    encoding='utf-8',\n",
    "    index_col='日期',\n",
    "    converters={'最高温度':lambda x:int(x[:-1]),'最低温度':lambda x:int(x[:-1])}\n",
    ")"
   ]
  },
  {
   "cell_type": "code",
   "execution_count": 40,
   "metadata": {},
   "outputs": [],
   "source": [
    "with pd.ExcelWriter(\n",
    "        path=r'2-ExcelWriter\\2017-2019-1.xlsx',\n",
    "        engine='openpyxl',\n",
    "    ) as writer:\n",
    "    df1.to_excel(\n",
    "        writer,\n",
    "        sheet_name='2018-2019',\n",
    "        freeze_panes=(1,1),\n",
    "        )"
   ]
  },
  {
   "cell_type": "code",
   "execution_count": 37,
   "metadata": {},
   "outputs": [],
   "source": [
    "df2=df1.copy()\n",
    "df2.index=pd.MultiIndex.from_arrays(\n",
    "    [\n",
    "        df2.index.year,\n",
    "        df2.index.month,\n",
    "        df2.index.day\n",
    "    ],\n",
    "    names=['年','月','日']\n",
    ")\n",
    "writer=pd.ExcelWriter(\n",
    "    path=r'2-ExcelWriter\\2017-2019-2.xlsx',\n",
    "    engine='openpyxl',\n",
    "    )\n",
    "for y in df2.index.get_level_values(0).unique():\n",
    "    df2.query(\n",
    "        f'年=={y}'\n",
    "    ).to_excel(\n",
    "        writer,\n",
    "        sheet_name=f'{y}',\n",
    "        freeze_panes=(1,3),\n",
    "    )\n",
    "writer.close()"
   ]
  }
 ],
 "metadata": {
  "kernelspec": {
   "display_name": "Python 3",
   "language": "python",
   "name": "python3"
  },
  "language_info": {
   "codemirror_mode": {
    "name": "ipython",
    "version": 3
   },
   "file_extension": ".py",
   "mimetype": "text/x-python",
   "name": "python",
   "nbconvert_exporter": "python",
   "pygments_lexer": "ipython3",
   "version": "3.12.4"
  }
 },
 "nbformat": 4,
 "nbformat_minor": 2
}
