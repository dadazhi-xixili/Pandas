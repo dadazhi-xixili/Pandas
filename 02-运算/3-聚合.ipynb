{
 "cells": [
  {
   "cell_type": "markdown",
   "metadata": {},
   "source": [
    "## 基础统计\n",
    "|**方法**|**描述**|\n",
    "|:--|:--|\n",
    "|`sum`|求和|\n",
    "|`avg`|平均值|\n",
    "|`max`|最大值|\n",
    "|`min`|最小值|\n",
    "|`count`|计数|\n",
    "|`mean`|平均值|\n",
    "|`mode`|众数|\n",
    "|`median`|中位数|\n",
    "### 参数:\n",
    "- axis : -> int\n",
    "    - 轴方向\n",
    "    - 0(默认): 行\n",
    "    - 1: 列\n",
    "- skipna : -> bool，默认 True\n",
    "    - 是否忽略缺失值\n",
    "- min_count : -> int，默认 0\n",
    "    - 行/列最小有效值的个数,低于此值则返回缺失值\n"
   ]
  },
  {
   "cell_type": "code",
   "execution_count": 80,
   "metadata": {},
   "outputs": [
    {
     "data": {
      "text/plain": [
       "最高温度    1.5\n",
       "最低温度   -6.3\n",
       "dtype: float64"
      ]
     },
     "execution_count": 80,
     "metadata": {},
     "output_type": "execute_result"
    }
   ],
   "source": [
    "import pandas as pd\n",
    "import numpy as np\n",
    "df=pd.read_csv(\n",
    "    filepath_or_buffer=r'..\\0-data\\beijing_tianqi\\beijing_tianqi_2018.csv',\n",
    "    sep=',',\n",
    "    usecols=range(8),\n",
    "    nrows=10,\n",
    "    skiprows=1,\n",
    "    header=None,\n",
    "    names=['日期','最高温度','最低温度','天气','风向','风速','空气指数','空气质量','空气质量等级'],\n",
    "    dtype={'空气指数':'int8','空气质量等级':'int8'},\n",
    "    parse_dates=['日期'],\n",
    "    date_format='%Y-%m-%d',\n",
    "    encoding='utf-8',\n",
    "    index_col='日期',\n",
    "    converters={'最高温度':lambda x:int(x[:-1]),'最低温度':lambda x:int(x[:-1])}\n",
    ")\n",
    "df[['最高温度','最低温度']].mean()"
   ]
  },
  {
   "cell_type": "code",
   "execution_count": 76,
   "metadata": {},
   "outputs": [
    {
     "data": {
      "text/html": [
       "<div>\n",
       "<style scoped>\n",
       "    .dataframe tbody tr th:only-of-type {\n",
       "        vertical-align: middle;\n",
       "    }\n",
       "\n",
       "    .dataframe tbody tr th {\n",
       "        vertical-align: top;\n",
       "    }\n",
       "\n",
       "    .dataframe thead th {\n",
       "        text-align: right;\n",
       "    }\n",
       "</style>\n",
       "<table border=\"1\" class=\"dataframe\">\n",
       "  <thead>\n",
       "    <tr style=\"text-align: right;\">\n",
       "      <th></th>\n",
       "      <th>A</th>\n",
       "      <th>B</th>\n",
       "      <th>C</th>\n",
       "      <th>D</th>\n",
       "    </tr>\n",
       "  </thead>\n",
       "  <tbody>\n",
       "    <tr>\n",
       "      <th>0</th>\n",
       "      <td>NaN</td>\n",
       "      <td>NaN</td>\n",
       "      <td>63</td>\n",
       "      <td>NaN</td>\n",
       "    </tr>\n",
       "    <tr>\n",
       "      <th>1</th>\n",
       "      <td>NaN</td>\n",
       "      <td>57.0</td>\n",
       "      <td>53</td>\n",
       "      <td>87.0</td>\n",
       "    </tr>\n",
       "    <tr>\n",
       "      <th>2</th>\n",
       "      <td>51.0</td>\n",
       "      <td>95.0</td>\n",
       "      <td>60</td>\n",
       "      <td>76.0</td>\n",
       "    </tr>\n",
       "    <tr>\n",
       "      <th>3</th>\n",
       "      <td>65.0</td>\n",
       "      <td>NaN</td>\n",
       "      <td>87</td>\n",
       "      <td>63.0</td>\n",
       "    </tr>\n",
       "    <tr>\n",
       "      <th>4</th>\n",
       "      <td>51.0</td>\n",
       "      <td>55.0</td>\n",
       "      <td>55</td>\n",
       "      <td>62.0</td>\n",
       "    </tr>\n",
       "  </tbody>\n",
       "</table>\n",
       "</div>"
      ],
      "text/plain": [
       "      A     B   C     D\n",
       "0   NaN   NaN  63   NaN\n",
       "1   NaN  57.0  53  87.0\n",
       "2  51.0  95.0  60  76.0\n",
       "3  65.0   NaN  87  63.0\n",
       "4  51.0  55.0  55  62.0"
      ]
     },
     "execution_count": 76,
     "metadata": {},
     "output_type": "execute_result"
    }
   ],
   "source": [
    "df=pd.DataFrame(\n",
    "    np.random.randint(1,100, size=(5, 4)),\n",
    "    columns=list('ABCD'),\n",
    "    dtype='int'\n",
    "    )\n",
    "df[df.gt(50)]"
   ]
  }
 ],
 "metadata": {
  "kernelspec": {
   "display_name": "Python 3",
   "language": "python",
   "name": "python3"
  },
  "language_info": {
   "codemirror_mode": {
    "name": "ipython",
    "version": 3
   },
   "file_extension": ".py",
   "mimetype": "text/x-python",
   "name": "python",
   "nbconvert_exporter": "python",
   "pygments_lexer": "ipython3",
   "version": "3.12.4"
  }
 },
 "nbformat": 4,
 "nbformat_minor": 2
}
