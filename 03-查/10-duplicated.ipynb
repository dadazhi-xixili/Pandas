{
 "cells": [
  {
   "cell_type": "markdown",
   "metadata": {},
   "source": [
    "## duplicated\n",
    "- 说明：  \n",
    "    - 返回布尔类型的Series，标记重复值\n",
    "    \n",
    "- 参数： \n",
    "    - `subset`: scalar | list | None  \n",
    "    考虑的列\n",
    "        - None: 所有列 (默认)\n",
    "        - scalar: 列名或行索引\n",
    "        - list: 列表中包含的列名或行名\n",
    "    - `keep`: str   \n",
    "    要标记哪些重复项\n",
    "        - 'first'：标记第一次出现的重复行为False (默认)\n",
    "        - 'last'：标记最后一次出现的重复行为False\n",
    "        - False：标记所有重复行为True\n",
    "\n",
    "\n",
    "|类型\\参数|`subset`|`keep`|\n",
    "|-|-|-|\n",
    "|`DataFrame`|√|√|\n",
    "|`Series`|×|√|\n",
    "|`Index`|×|√|"
   ]
  }
 ],
 "metadata": {
  "language_info": {
   "name": "python"
  }
 },
 "nbformat": 4,
 "nbformat_minor": 2
}
