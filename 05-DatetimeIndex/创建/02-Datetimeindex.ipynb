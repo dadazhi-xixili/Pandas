{
 "cells": [
  {
   "cell_type": "markdown",
   "metadata": {},
   "source": [
    "从数组构建DatetimeIndex\n",
    "\n",
    "- data:  \n",
    "从`Iterable`中构建\n",
    "- freq:  \n",
    "如指定频率,data参数传入数据类型要保持一直,且频率正确\n",
    "- tz:\n",
    "时区\n",
    "- normalize:  \n",
    "弃用\n",
    "- closed:  \n",
    "弃用\n",
    "- ambiguous:  \n",
    "不明确时间处理方法 \n",
    "- dayfirst:  \n",
    "    - `True`: 日期优先解析\n",
    "    - `False`: 自行推断\n",
    "- yearfirst:  \n",
    "    - `True`: 年优先解析\n",
    "    - `False`: 自行推断\n",
    "- dtype:  \n",
    "与`tz`参数冲突\n",
    "- copy:  \n",
    "是否复制数据源\n",
    "- name:  \n",
    "名称\n",
    "\n",
    "\n",
    "\n",
    "\n",
    "\n",
    "```python\n",
    "pandas.DatetimeIndex(data=None, freq=None, tz=None, normalize=False, closed=<no_default>, ambiguous='raise', dayfirst=False, yearfirst=False, dtype=None, copy=False, name=None)"
   ]
  },
  {
   "cell_type": "code",
   "execution_count": 73,
   "metadata": {},
   "outputs": [
    {
     "data": {
      "text/plain": [
       "DatetimeIndex([], dtype='datetime64[ns]', name='date', freq='W-SUN')"
      ]
     },
     "execution_count": 73,
     "metadata": {},
     "output_type": "execute_result"
    }
   ],
   "source": [
    "import pandas as pd\n",
    "from datetime import datetime\n",
    "from numpy import datetime64\n",
    "\n",
    "pd.DatetimeIndex([], name='date', freq='W')"
   ]
  },
  {
   "cell_type": "code",
   "execution_count": 86,
   "metadata": {},
   "outputs": [
    {
     "data": {
      "text/plain": [
       "DatetimeIndex(['53999741868-11-01', '2024-01-01', '2024-01-03', '2024-01-04',\n",
       "               '2024-01-05'],\n",
       "              dtype='datetime64[s]', freq=None)"
      ]
     },
     "execution_count": 86,
     "metadata": {},
     "output_type": "execute_result"
    }
   ],
   "source": [
    "date_arr = [\n",
    "    1704067200000000000,\n",
    "    '2024-1-1',\n",
    "    pd.to_datetime('2024-01-3'),\n",
    "    datetime64('2024-01-04'),\n",
    "    datetime.strptime('2024-01-05', '%Y-%m-%d'),\n",
    "]\n",
    "pd.DatetimeIndex(date_arr, dtype='datetime64[s]')"
   ]
  },
  {
   "cell_type": "code",
   "execution_count": 83,
   "metadata": {},
   "outputs": [
    {
     "data": {
      "text/plain": [
       "DatetimeIndex(['2017-01-01 00:00:00+08:00', '2017-01-02 00:00:00+08:00',\n",
       "               '2017-01-03 00:00:00+08:00'],\n",
       "              dtype='datetime64[ns, Asia/Shanghai]', freq='D')"
      ]
     },
     "execution_count": 83,
     "metadata": {},
     "output_type": "execute_result"
    }
   ],
   "source": [
    "date_arr = ['2017-01-01', '2017-01-02', '2017-01-03']\n",
    "pd.DatetimeIndex(date_arr, freq='D', tz='Asia/Shanghai')"
   ]
  }
 ],
 "metadata": {
  "kernelspec": {
   "display_name": "Python 3",
   "language": "python",
   "name": "python3"
  },
  "language_info": {
   "codemirror_mode": {
    "name": "ipython",
    "version": 3
   },
   "file_extension": ".py",
   "mimetype": "text/x-python",
   "name": "python",
   "nbconvert_exporter": "python",
   "pygments_lexer": "ipython3",
   "version": "3.12.6"
  }
 },
 "nbformat": 4,
 "nbformat_minor": 2
}
