{
 "cells": [
  {
   "cell_type": "markdown",
   "metadata": {},
   "source": [
    "从序列构建 DatetimeIndex\n",
    "\n",
    "- start:  \n",
    "起始时间\n",
    "    - 时间对象\n",
    "    - `int`: 纳秒时间戳\n",
    "    - `str`: 时间字符串\n",
    "    - `None`: 从`end`参数推断\n",
    "- end:  \n",
    "结束时间\n",
    "    - 时间对象\n",
    "    - `int`: 纳秒时间戳\n",
    "    - `str`: 时间字符串\n",
    "    - `None`: 从`start`参数推断\n",
    "- periods:  \n",
    "推断次数\n",
    "    - `int`: 从`start`开始\n",
    "    - `None`: 从`start`到`end`参数推断\n",
    "- freq:  \n",
    "每次推断单位 参考日期单位\n",
    "    - `str`: `'D'`、`'H'`、`'T'`、`'S'`、`'L'`、`'U'`、`'N'`\n",
    "    - `None`: `'D'`\n",
    "- tz:   \n",
    "时区\n",
    "    - `str`: 时区字符串\n",
    "    - `None`: 计算机时间时区\n",
    "- normalize:  \n",
    "    - `False`: 默认值\n",
    "    - `True`: 边界时间点\n",
    "- name:  \n",
    "索引名称\n",
    "- inclusive:  \n",
    "包含边界\n",
    "    - `'both'`: 包含边界\n",
    "    - `'neither'`: 不包含边界\n",
    "    - `'left'`: 包含左边界\n",
    "    - `'right'`: 包含右边界\n",
    "- unit:  \n",
    "时间单位\n",
    "    - `'s'`: 秒\n",
    "    - `'ms'`: 毫秒\n",
    "    - `'us'`: 微秒\n",
    "    - `'ns'`: 纳秒\n",
    "    - `None`: `'ns'`\n",
    "```python\n",
    "pandas.date_range(start=None, end=None, periods=None, freq=None, tz=None, normalize=False, name=None, inclusive='both', *, unit=None, **kwargs) -> pd.DatetimeIndex"
   ]
  },
  {
   "cell_type": "code",
   "execution_count": 80,
   "metadata": {},
   "outputs": [
    {
     "data": {
      "text/plain": [
       "DatetimeIndex(['2024-01-01', '2024-01-02', '2024-01-03'], dtype='datetime64[ns]', name='date', freq='D')"
      ]
     },
     "execution_count": 80,
     "metadata": {},
     "output_type": "execute_result"
    }
   ],
   "source": [
    "import pandas as pd\n",
    "import datetime\n",
    "import numpy as np\n",
    "\n",
    "dt = datetime.datetime.strptime('2024-01-01', '%Y-%m-%d')\n",
    "pd.date_range(dt, periods=3, name='date')"
   ]
  },
  {
   "cell_type": "code",
   "execution_count": 81,
   "metadata": {},
   "outputs": [
    {
     "data": {
      "text/plain": [
       "DatetimeIndex(['2024-01-01', '2024-01-02', '2024-01-03'], dtype='datetime64[ns]', freq='D')"
      ]
     },
     "execution_count": 81,
     "metadata": {},
     "output_type": "execute_result"
    }
   ],
   "source": [
    "dt = pd.to_datetime('2024-01')\n",
    "pd.date_range(dt, periods=3)"
   ]
  },
  {
   "cell_type": "code",
   "execution_count": 88,
   "metadata": {},
   "outputs": [
    {
     "data": {
      "text/plain": [
       "DatetimeIndex(['2024-01-01', '2024-01-02', '2024-01-03'], dtype='datetime64[ns]', freq='D')"
      ]
     },
     "execution_count": 88,
     "metadata": {},
     "output_type": "execute_result"
    }
   ],
   "source": [
    "dt = np.datetime64('2024')\n",
    "pd.date_range(dt, '1/4/2024', inclusive='left')"
   ]
  },
  {
   "cell_type": "code",
   "execution_count": 83,
   "metadata": {},
   "outputs": [
    {
     "data": {
      "text/plain": [
       "DatetimeIndex(['2023-12-17', '2023-12-24', '2023-12-31'], dtype='datetime64[ns]', freq='W-SUN')"
      ]
     },
     "execution_count": 83,
     "metadata": {},
     "output_type": "execute_result"
    }
   ],
   "source": [
    "pd.date_range(end='2024-1-1', periods=3, freq='W')"
   ]
  },
  {
   "cell_type": "code",
   "execution_count": 84,
   "metadata": {},
   "outputs": [
    {
     "data": {
      "text/plain": [
       "DatetimeIndex(['2024-10-27 06:50:24', '2024-11-10 06:50:24',\n",
       "               '2024-11-24 06:50:24'],\n",
       "              dtype='datetime64[s]', freq='2W-SUN')"
      ]
     },
     "execution_count": 84,
     "metadata": {},
     "output_type": "execute_result"
    }
   ],
   "source": [
    "pd.date_range(end=1732431024000000000, periods=3, freq='2W', unit='s')"
   ]
  }
 ],
 "metadata": {
  "kernelspec": {
   "display_name": "Python 3",
   "language": "python",
   "name": "python3"
  },
  "language_info": {
   "codemirror_mode": {
    "name": "ipython",
    "version": 3
   },
   "file_extension": ".py",
   "mimetype": "text/x-python",
   "name": "python",
   "nbconvert_exporter": "python",
   "pygments_lexer": "ipython3",
   "version": "3.12.6"
  }
 },
 "nbformat": 4,
 "nbformat_minor": 2
}
