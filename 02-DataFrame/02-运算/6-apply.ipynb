{
 "cells": [
  {
   "cell_type": "markdown",
   "metadata": {},
   "source": [
    "## apply\n",
    "- 说明：  \n",
    "    - 对DataFrame或Series的行或列应用函数\n",
    "    - 根据`axis`参数指定应用函数的方向\n",
    "- 参数： \n",
    "    - `func`: function  \n",
    "    要应用的函数\n",
    "    - `axis`: int  \n",
    "    轴\n",
    "        - 0：按列应用函数 (默认)\n",
    "        - 1：按行应用函数\n",
    "    - `raw`: bool  \n",
    "    是否传递原始数组\n",
    "        - False: 传递Series对象 (默认)\n",
    "        - True: 传递ndarray对象\n",
    "    - `result_type`: str | None  \n",
    "    返回值类型\n",
    "        - None: 尝试推断返回值类型 (默认)\n",
    "        - 'expand': 返回DataFrame\n",
    "        - 'reduce': 返回Series或标量\n",
    "        - 'broadcast': 保持原DataFrame形状\n",
    "    - `args`: tuple  \n",
    "    传递给函数的额外位置参数\n",
    "    - `**kwargs`: dict  \n",
    "    传递给函数的额外关键字参数\n",
    "\n",
    "|类型\\参数|`func`|`axis`|`raw`|`result_type`|`args`|`**kwargs`|\n",
    "|:-------:|:-------:|:-------:|:-------:|:-------:|:-------:|:-------:|\n",
    "|`DataFrame`|√|√|√|√|√|√|\n",
    "|`Series`|√||√|√|√|√|\n"
   ]
  }
 ],
 "metadata": {
  "language_info": {
   "name": "python"
  }
 },
 "nbformat": 4,
 "nbformat_minor": 2
}
