{
 "cells": [
  {
   "cell_type": "markdown",
   "metadata": {},
   "source": [
    "## map\n",
    "- 说明：  \n",
    "    - 将函数或映射应用于Series的每个元素。\n",
    "    - 根据`arg`参数，指定要应用的函数或映射。\n",
    "    \n",
    "- 参数： \n",
    "    - `arg`: function | dict | Series  \n",
    "    要应用的函数或映射\n",
    "        - function：单个函数\n",
    "        - dict：映射关系\n",
    "        - Series：映射关系\n",
    "    - `na_action`: {None, 'ignore'}  \n",
    "    对缺失值的处理方式\n",
    "        - None：应用函数或映射 (默认)\n",
    "        - 'ignore'：忽略缺失值\n",
    "\n",
    "|类型\\参数|`arg`|`na_action`|\n",
    "|:-------:|:-------:|:-------:|\n",
    "|`Series`|√|√|\n"
   ]
  },
  {
   "cell_type": "code",
   "execution_count": null,
   "metadata": {},
   "outputs": [],
   "source": []
  }
 ],
 "metadata": {
  "kernelspec": {
   "display_name": "Python 3",
   "language": "python",
   "name": "python3"
  },
  "language_info": {
   "codemirror_mode": {
    "name": "ipython",
    "version": 3
   },
   "file_extension": ".py",
   "mimetype": "text/x-python",
   "name": "python",
   "nbconvert_exporter": "python",
   "pygments_lexer": "ipython3",
   "version": "3.12.4"
  }
 },
 "nbformat": 4,
 "nbformat_minor": 2
}
