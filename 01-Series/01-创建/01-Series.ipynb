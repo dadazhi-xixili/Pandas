{
 "cells": [
  {
   "cell_type": "markdown",
   "metadata": {},
   "source": [
    "构建Series\n",
    "\n",
    "\n",
    "- `data`: `Iterable`、`标量`、`None`\n",
    "  - `Iterable`:  \n",
    "    - `str`: 按标量处理\n",
    "    - `dict`: 当`index`参数为None时，使用dict的key作为index\n",
    "    - `Series`: \n",
    "      - 当`index`参数为`None`时，复制`Series`\n",
    "      - 当`index`参数为`Iterable`时，返回对应`index`的数据，无对应数据时，返回NaN\n",
    "    - `list`, `tuple`, `numpy.array`...: 按照位置顺序添加到Series\n",
    "  - `None`: 创建空Series\n",
    "  - `标量`: 只有一个元素的Series\n",
    "\n",
    "- `index`: `Iterable`、`Series`、`Index`、`None`\n",
    "  - `Series` | `Index`: 值作为`Index`,name为`Index.name`\n",
    "  - `Iterable`: 长度需要和data的长度一致\n",
    "  - `None`: 从0 开始构建index\n",
    "- `dtype`: 数据类型\n",
    "  - `None`: 自动判断\n",
    "- `name`: Series的名字\n",
    "- `copy`: 是否复制数据\n",
    "\n",
    "```python\n",
    "pandas.Series(data=None, index=None, dtype=None, name=None, copy=None) -> pandas.Series\n",
    "```"
   ]
  },
  {
   "cell_type": "code",
   "execution_count": 2,
   "metadata": {},
   "outputs": [
    {
     "data": {
      "text/plain": [
       "a    0.0\n",
       "b    1.0\n",
       "c    2.0\n",
       "d    3.0\n",
       "e    4.0\n",
       "f    5.0\n",
       "g    6.0\n",
       "h    7.0\n",
       "i    8.0\n",
       "j    9.0\n",
       "Name: serise, dtype: float64"
      ]
     },
     "execution_count": 2,
     "metadata": {},
     "output_type": "execute_result"
    }
   ],
   "source": [
    "import pandas as pd\n",
    "\n",
    "pd.Series(\n",
    "    data=(str(x) for x in range(10)),\n",
    "    index=list('abcdefghij'),\n",
    "    copy=False,\n",
    "    name=\"serise\",\n",
    "    dtype='float'\n",
    ")"
   ]
  },
  {
   "cell_type": "code",
   "execution_count": 26,
   "metadata": {},
   "outputs": [
    {
     "data": {
      "text/plain": [
       "a    0\n",
       "b    1\n",
       "c    2\n",
       "d    3\n",
       "e    4\n",
       "f    5\n",
       "g    6\n",
       "h    7\n",
       "i    8\n",
       "j    9\n",
       "Name: serise, dtype: int32"
      ]
     },
     "execution_count": 26,
     "metadata": {},
     "output_type": "execute_result"
    }
   ],
   "source": [
    "pd.Series(\n",
    "    data=['0', '1', '2', '3', '4', '5', '6', '7', '8', '9'],\n",
    "    index=['a', 'b', 'c', 'd', 'e', 'f', 'g', 'h', 'i', 'j'],\n",
    "    dtype='int',\n",
    "    name='serise',\n",
    ")"
   ]
  },
  {
   "cell_type": "code",
   "execution_count": 9,
   "metadata": {},
   "outputs": [
    {
     "data": {
      "text/plain": [
       "d    4\n",
       "a    1\n",
       "dtype: int64"
      ]
     },
     "execution_count": 9,
     "metadata": {},
     "output_type": "execute_result"
    }
   ],
   "source": [
    "pd.Series(pd.Series({'a': 1, 'b': 2, 'c': 3, 'd': 4}),index=['d','a'])"
   ]
  }
 ],
 "metadata": {
  "kernelspec": {
   "display_name": "Python 3",
   "language": "python",
   "name": "python3"
  },
  "language_info": {
   "codemirror_mode": {
    "name": "ipython",
    "version": 3
   },
   "file_extension": ".py",
   "mimetype": "text/x-python",
   "name": "python",
   "nbconvert_exporter": "python",
   "pygments_lexer": "ipython3",
   "version": "3.12.6"
  }
 },
 "nbformat": 4,
 "nbformat_minor": 2
}
