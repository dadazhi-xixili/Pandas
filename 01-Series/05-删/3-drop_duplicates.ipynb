{
 "cells": [
  {
   "cell_type": "markdown",
   "metadata": {},
   "source": [
    "## drop_duplicates\n",
    "- 说明：  \n",
    "    - 删除重复的行或列\n",
    "    \n",
    "- 参数： \n",
    "    - `subset`: scalar | list | None  \n",
    "    考虑的列或行\n",
    "        - None: 所有列或行 (默认)\n",
    "        - scalar: 列名或行索引\n",
    "        - list: 列表中包含的列名或行名\n",
    "    - `keep`: str  \n",
    "    保留哪一行\n",
    "        - 'first'：保留第一次出现的行 (默认)\n",
    "        - 'last'：保留最后一次出现的行\n",
    "        - False：删除所有重复行\n",
    "    - `inplace`: bool  \n",
    "    是否修改原DataFrame\n",
    "        - False: 返回新的DataFrame (默认)\n",
    "        - True: 修改原DataFrame\n",
    "    - `ignore_index`: bool  \n",
    "    是否重置索引\n",
    "        - False: 保留原索引 (默认)\n",
    "        - True: 重置索引\n",
    "    \n",
    "|类型\\参数|`subset`|`keep`|`inplace`|`ignore_index`|\n",
    "|:-:|:-:|:-:|:-:|:-:|\n",
    "|`DataFrame`|√|√|√|√|\n",
    "|`Series`||√|√|√|\n",
    "|`Index`||√| | |\n"
   ]
  }
 ],
 "metadata": {
  "language_info": {
   "name": "python"
  }
 },
 "nbformat": 4,
 "nbformat_minor": 2
}
