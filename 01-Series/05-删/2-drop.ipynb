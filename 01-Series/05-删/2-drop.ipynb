{
 "cells": [
  {
   "cell_type": "markdown",
   "metadata": {},
   "source": [
    "## drop\n",
    "- 说明：  \n",
    "    - 删除指定的行或列\n",
    "    - 根据`labels`参数，与`axis`参数一起使用，删除传入标签值，删除行或列。\n",
    "    - 可同时闯入`index`与`columns`参数，删除传入标签值，同时删除行或列。\n",
    "- 参数： \n",
    "    - `labels`: str | list[str]  | pd.Index | None\n",
    "    要删除的行或列的标签\n",
    "        - None: 不考虑这个参数 (默认)\n",
    "        - str: 行或列标签\n",
    "        - list: 行或列标签列表\n",
    "    - `axis`: int   \n",
    "    轴\n",
    "        - 0：删除行 (默认)\n",
    "        - 1：删除列\n",
    "    - `index`: scalar | list[str] | None  \n",
    "    要删除的行标签\n",
    "        - None: 不考虑这个参数 (默认)\n",
    "        - scalar: 行标签\n",
    "        - list: 行标签列表\n",
    "    - `columns`: scalar | list[str] | None  \n",
    "    要删除的列标签\n",
    "        - None: 不考虑这个参数 (默认)\n",
    "        - scalar: 列标签\n",
    "        - list: 列标签列表\n",
    "    - `level`: int | None  \n",
    "    多级索引中的级别\n",
    "        - None: 不考虑这个参数 (默认)\n",
    "        - int: 索引级别\n",
    "    - `inplace`: bool  \n",
    "    是否修改原DataFrame \n",
    "        - False: 返回新的DataFrame (默认)\n",
    "        - True: 修改原DataFrame\n",
    "    - `errors`: str  \n",
    "    错误处理方式\n",
    "        - 'ignore'：忽略错误\n",
    "        - 'raise'：引发错误 (默认)\n",
    "\n",
    "|类型\\参数|`labels`|`axis`|`index`|`columns`|`level`|`inplace`|`errors`|\n",
    "|:-:|:-:|:-:|:-:|:-:|:-:|:-:|:-:|\n",
    "|`DataFrame`|√|√|√|√|√|√|√|\n",
    "|`Series`|√||| |√|√|√|\n",
    "|`Index`|√| || | ||√|\n",
    "|`MultiIndex`|√| | ||√|√|√|\n"
   ]
  }
 ],
 "metadata": {
  "language_info": {
   "name": "python"
  }
 },
 "nbformat": 4,
 "nbformat_minor": 2
}
