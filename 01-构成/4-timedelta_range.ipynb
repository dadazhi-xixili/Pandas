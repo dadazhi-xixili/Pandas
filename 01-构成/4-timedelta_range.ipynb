{
 "cells": [
  {
   "cell_type": "markdown",
   "metadata": {},
   "source": [
    "# timedelta_range\n",
    "生成时长间隔的序列  \n",
    "最大单位为日,最小单位为纳秒  \n",
    "参数参考data_range\n",
    "1. start\n",
    "0. end\n",
    "0. periods\n",
    "0. freq\n",
    "0. name"
   ]
  },
  {
   "cell_type": "code",
   "execution_count": 1,
   "metadata": {},
   "outputs": [
    {
     "data": {
      "text/plain": [
       "TimedeltaIndex(['0 days 01:00:00', '0 days 03:00:00', '0 days 05:00:00',\n",
       "                '0 days 07:00:00', '0 days 09:00:00'],\n",
       "               dtype='timedelta64[ns]', freq='2h')"
      ]
     },
     "execution_count": 1,
     "metadata": {},
     "output_type": "execute_result"
    }
   ],
   "source": [
    "import pandas as pd\n",
    "pd.timedelta_range(start='1h', periods=5, freq='2h')"
   ]
  }
 ],
 "metadata": {
  "kernelspec": {
   "display_name": "Python 3",
   "language": "python",
   "name": "python3"
  },
  "language_info": {
   "codemirror_mode": {
    "name": "ipython",
    "version": 3
   },
   "file_extension": ".py",
   "mimetype": "text/x-python",
   "name": "python",
   "nbconvert_exporter": "python",
   "pygments_lexer": "ipython3",
   "version": "3.12.4"
  }
 },
 "nbformat": 4,
 "nbformat_minor": 2
}
