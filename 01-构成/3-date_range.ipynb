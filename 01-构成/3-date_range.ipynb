{
 "cells": [
  {
   "cell_type": "markdown",
   "metadata": {},
   "source": [
    "# data_range\n",
    "生成日期时间序列\n",
    "`pd.data_range`\n",
    "1. start: 开始日期，字符串或日期时间对象。\n",
    "0. end: 结束日期，字符串或日期时间对象。\n",
    "0. periods: int, 默认为None。\n",
    "    - 要生成的日期数量。如果同时指定了periods和end，则end将被忽略。\n",
    "    - 未指定start将从end倒推\n",
    "    - 未指定end将从start推导\n",
    "0. freq: 频率字符串 | DateOffset对象。\n",
    "    - `D` 日 `默认值`\n",
    "    - `W` 周\n",
    "    - `MS` 月初\n",
    "    - `ME` 月末\n",
    "    - `QS` 季初\n",
    "    - `QE` 季末\n",
    "    - `YS` 年初\n",
    "    - `YE` 年末\n",
    "    - `min` 分钟\n",
    "    - `s` 秒\n",
    "    - `us` 纳秒\n",
    "    - `ns` 纳秒\n",
    "    - `[0-9]` 数量词 1D 2W 3MS\n",
    "0. tz: 时区信息，例如'UTC'或'Asia/Shanghai'。\n",
    "0. normalize: 布尔值，默认为False。如果为True，则会将start和end参数中的日期时间标准化到午夜。\n",
    "0. name: `str` \n",
    "    - 返回的DatetimeIndex的名称。参考Series\n",
    "0. closed: 字符串，指定间隔的闭端。选项有'left'、'right'或None。默认为None，表示不关闭任何端。\n",
    "0. ****kwargs: 其他关键字参数，传递给Index的构造函数。"
   ]
  },
  {
   "cell_type": "code",
   "execution_count": 28,
   "metadata": {},
   "outputs": [
    {
     "data": {
      "text/plain": [
       "DatetimeIndex(['2017-12-23', '2017-12-24', '2017-12-25', '2017-12-26',\n",
       "               '2017-12-27', '2017-12-28', '2017-12-29', '2017-12-30',\n",
       "               '2017-12-31', '2018-01-01'],\n",
       "              dtype='datetime64[ns]', freq='D')"
      ]
     },
     "execution_count": 28,
     "metadata": {},
     "output_type": "execute_result"
    }
   ],
   "source": [
    "import pandas as pd\n",
    "pd.date_range(end='2018-01-01', periods=10)"
   ]
  },
  {
   "cell_type": "code",
   "execution_count": 75,
   "metadata": {},
   "outputs": [
    {
     "data": {
      "text/plain": [
       "DatetimeIndex(['1970-01-01 00:00:00.000045510',\n",
       "               '1970-01-01 00:02:00.000045510',\n",
       "               '1970-01-01 00:04:00.000045510',\n",
       "               '1970-01-01 00:06:00.000045510',\n",
       "               '1970-01-01 00:08:00.000045510'],\n",
       "              dtype='datetime64[ns]', freq='2min')"
      ]
     },
     "execution_count": 75,
     "metadata": {},
     "output_type": "execute_result"
    }
   ],
   "source": [
    "pd.date_range(start=45510,freq='2min',periods=5)"
   ]
  }
 ],
 "metadata": {
  "kernelspec": {
   "display_name": "Python 3",
   "language": "python",
   "name": "python3"
  },
  "language_info": {
   "codemirror_mode": {
    "name": "ipython",
    "version": 3
   },
   "file_extension": ".py",
   "mimetype": "text/x-python",
   "name": "python",
   "nbconvert_exporter": "python",
   "pygments_lexer": "ipython3",
   "version": "3.12.4"
  }
 },
 "nbformat": 4,
 "nbformat_minor": 2
}
