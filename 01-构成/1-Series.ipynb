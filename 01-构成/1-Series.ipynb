{
 "cells": [
  {
   "cell_type": "markdown",
   "metadata": {},
   "source": [
    "# Series\n",
    "## Series结构\n",
    "1. 索引: `index`\n",
    "2. 数据: `values`\n",
    "3. 名称: `name`\n",
    "## 创建Series\n",
    "- pandas.Series\n",
    "1. `data`: 序列中的数据，由可迭代对象构成，可以是数组、列表、字典等。\n",
    "2. `index`: 序列的索引标签。\n",
    "    - 当data 是字典类型，index 将被设置为字典的键。\n",
    "    - 未指定时，将使用默认整数索引。\n",
    "3. `dtype`: 数据类型。可以指定序列中元素的数据类型，例如 int, float, str 等。\n",
    "4. `copy`: 布尔值，表示是否复制输入的数据。如果为 False 并且 data 是数组类型，将使用原始数据而不复制。\n",
    "5. `name`: 序列的名称，可以是任何哈希类型的对象。\n",
    "    - 如果未指定，将使用默认名称。"
   ]
  },
  {
   "cell_type": "code",
   "execution_count": 3,
   "metadata": {},
   "outputs": [
    {
     "data": {
      "text/plain": [
       "a    0\n",
       "b    1\n",
       "c    2\n",
       "d    3\n",
       "e    4\n",
       "f    5\n",
       "g    6\n",
       "h    7\n",
       "i    8\n",
       "j    9\n",
       "Name: serise, dtype: object"
      ]
     },
     "execution_count": 3,
     "metadata": {},
     "output_type": "execute_result"
    }
   ],
   "source": [
    "import pandas as pd\n",
    "pd.Series(\n",
    "    data=(str(x) for x in range(10)),\n",
    "    index=['a','b','c','d','e','f','g','h','i','j'],\n",
    "    copy=True,\n",
    "    name='serise'\n",
    "    )"
   ]
  },
  {
   "cell_type": "code",
   "execution_count": 29,
   "metadata": {},
   "outputs": [
    {
     "data": {
      "text/plain": [
       "a    0\n",
       "b    1\n",
       "c    2\n",
       "d    3\n",
       "e    4\n",
       "f    5\n",
       "g    6\n",
       "h    7\n",
       "i    8\n",
       "j    9\n",
       "Name: serise, dtype: int32"
      ]
     },
     "execution_count": 29,
     "metadata": {},
     "output_type": "execute_result"
    }
   ],
   "source": [
    "pd.Series(\n",
    "    data=(str(x) for x in range(10)),\n",
    "    index=['a','b','c','d','e','f','g','h','i','j'],\n",
    "    dtype='int',\n",
    "    name='serise'\n",
    "    )"
   ]
  },
  {
   "cell_type": "code",
   "execution_count": 30,
   "metadata": {},
   "outputs": [
    {
     "data": {
      "text/plain": [
       "a    1\n",
       "b    2\n",
       "c    3\n",
       "d    4\n",
       "dtype: int64"
      ]
     },
     "execution_count": 30,
     "metadata": {},
     "output_type": "execute_result"
    }
   ],
   "source": [
    "pd.Series({'a':1,'b':2,'c':3,'d':4})"
   ]
  }
 ],
 "metadata": {
  "kernelspec": {
   "display_name": "Python 3",
   "language": "python",
   "name": "python3"
  },
  "language_info": {
   "codemirror_mode": {
    "name": "ipython",
    "version": 3
   },
   "file_extension": ".py",
   "mimetype": "text/x-python",
   "name": "python",
   "nbconvert_exporter": "python",
   "pygments_lexer": "ipython3",
   "version": "3.12.4"
  }
 },
 "nbformat": 4,
 "nbformat_minor": 2
}
