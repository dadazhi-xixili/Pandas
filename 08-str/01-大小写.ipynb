{
 "cells": [
  {
   "cell_type": "markdown",
   "metadata": {},
   "source": [
    "| 方法         | 描述                                           | 参数                                         |\n",
    "| ------------ | ---------------------------------------------- | -------------------------------------------- |\n",
    "| `cat`        | 将多个字符串元素连接为一个字符串。             | sep (字符串)                                 |\n",
    "| `count`      | 统计字符串中指定模式的出现次数。               | pattern (字符串、正则表达式或列表)           |\n",
    "| `find`       | 在字符串中查找指定模式的位置。                 | pattern (字符串、正则表达式或列表)           |\n",
    "| `findall`    | 在字符串中查找所有匹配的子串。                 | pattern (字符串、正则表达式或列表)           |\n",
    "| `lower`      | 将所有字符串元素转换为小写。                   | 无                                           |\n",
    "| `len`        | 获取每个字符串元素的长度。                     | 无                                           |\n",
    "| `slice`      | 获取字符串元素的指定子串。                     | start (整数), end (整数)                     |\n",
    "| `upper`      | 将所有字符串元素转换为大写。                   | 无                                           |\n",
    "| `capitalize` | 将每个字符串元素的首字母大写。                 | 无                                           |\n",
    "| `endswith`   | 检查字符串是否以指定的后缀结束。               | suffix (字符串、正则表达式或列表)            |\n",
    "| `startswith` | 检查字符串是否以指定的前缀开始。               | prefix (字符串、正则表达式或列表)            |\n",
    "| `contains`   | 检查字符串是否包含指定的模式。                 | pattern (字符串、正则表达式或列表)           |\n",
    "| `replace`    | 替换字符串中的旧子串为新子串。                 | old (字符串、正则表达式或列表), new (字符串) |\n",
    "| `split`      | 根据指定的分隔符分割字符串。                   | sep (字符串、正则表达式或列表)               |\n",
    "| `len`        | 获取每个字符串元素的长度。                     | 无                                           |\n",
    "| `strip`      | 移除字符串两端的空白字符。                     | 无                                           |\n",
    "| `extract`    | 根据正则表达式提取字符串中的匹配部分。         | pattern (正则表达式)                         |\n",
    "| `get`        | 提取字符串中正则表达式的匹配组。               | n (组的索引)                                 |\n",
    "| `match`      | 检查字符串是否匹配正则表达式。                 | pattern (正则表达式)                         |\n",
    "| `patten`     | 应用正则表达式匹配。                           | pattern (正则表达式)                         |\n",
    "| `squeeze`    | 移除字符串中的多余空格，只保留单个空格。       | 无                                           |\n",
    "| `swapcase`   | 交换字符串中的大写和小写字母。                 | 无                                           |\n",
    "| `title`      | 将字符串的每个单词的首字母大写，其他字母小写。 | 无                                           |\n",
    "| `wrap`       | 将字符串换行，每行最多指定宽度的字符。         | width (整数)                                 |\n",
    "| `center`     | 将字符串居中对齐，并使用指定宽度填充空格。     | width (整数)                                 |\n",
    "| `ljust`      | 将字符串左对齐，并使用指定宽度填充空格。       | width (整数)                                 |\n",
    "| `rjust`      | 将字符串右对齐，并使用指定宽度填充空格。       | width (整数)                                 |"
   ]
  },
  {
   "cell_type": "code",
   "execution_count": 2,
   "metadata": {},
   "outputs": [
    {
     "data": {
      "text/plain": [
       "0                 lower\n",
       "1              CAPITALS\n",
       "2    this is a sentence\n",
       "3              SwApCaSe\n",
       "dtype: object"
      ]
     },
     "execution_count": 2,
     "metadata": {},
     "output_type": "execute_result"
    }
   ],
   "source": [
    "import pandas as pd\n",
    "\n",
    "s = pd.Series(['lower', 'CAPITALS', 'this is a sentence', 'SwApCaSe'])\n",
    "s"
   ]
  }
 ],
 "metadata": {
  "kernelspec": {
   "display_name": "Python 3",
   "language": "python",
   "name": "python3"
  },
  "language_info": {
   "codemirror_mode": {
    "name": "ipython",
    "version": 3
   },
   "file_extension": ".py",
   "mimetype": "text/x-python",
   "name": "python",
   "nbconvert_exporter": "python",
   "pygments_lexer": "ipython3",
   "version": "3.12.4"
  }
 },
 "nbformat": 4,
 "nbformat_minor": 2
}
