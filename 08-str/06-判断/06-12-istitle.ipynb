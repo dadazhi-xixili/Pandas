{
 "cells": [
  {
   "cell_type": "markdown",
   "metadata": {},
   "source": [
    "判断字母是否都为大写\n",
    "```python\n",
    "pandas.Series.str.isupper() -> pandas.Series \n",
    "pandas.Index.str.isupper() -> pandas.Index \n",
    "```\n"
   ]
  },
  {
   "cell_type": "code",
   "execution_count": 7,
   "metadata": {},
   "outputs": [
    {
     "data": {
      "text/plain": [
       "0              Pandas\n",
       "1               numpy\n",
       "2    Pandas And Numpy\n",
       "3    Pandas and numpy\n",
       "4               P A N\n",
       "5               A+-*/\n",
       "6          A+-*/ B132\n",
       "7    A+-*/ B132\\nCasf\n",
       "8                    \n",
       "9                 NaN\n",
       "dtype: object"
      ]
     },
     "execution_count": 7,
     "metadata": {},
     "output_type": "execute_result"
    }
   ],
   "source": [
    "import pandas as pd\n",
    "from numpy import nan\n",
    "\n",
    "s = pd.Series(\n",
    "    [\n",
    "        'Pandas',\n",
    "        'numpy',\n",
    "        'Pandas And Numpy',\n",
    "        'Pandas and numpy',\n",
    "        'P A N',\n",
    "        'A+-*/',\n",
    "        'A+-*/ B132',\n",
    "        'A+-*/ B132\\nCasf',\n",
    "        ' ',\n",
    "        nan,\n",
    "    ]\n",
    ")\n",
    "s"
   ]
  },
  {
   "cell_type": "code",
   "execution_count": 8,
   "metadata": {},
   "outputs": [
    {
     "data": {
      "text/plain": [
       "0     True\n",
       "1    False\n",
       "2     True\n",
       "3    False\n",
       "4     True\n",
       "5     True\n",
       "6     True\n",
       "7     True\n",
       "8    False\n",
       "9      NaN\n",
       "dtype: object"
      ]
     },
     "execution_count": 8,
     "metadata": {},
     "output_type": "execute_result"
    }
   ],
   "source": [
    "s.str.istitle()"
   ]
  }
 ],
 "metadata": {
  "kernelspec": {
   "display_name": "Python 3",
   "language": "python",
   "name": "python3"
  },
  "language_info": {
   "codemirror_mode": {
    "name": "ipython",
    "version": 3
   },
   "file_extension": ".py",
   "mimetype": "text/x-python",
   "name": "python",
   "nbconvert_exporter": "python",
   "pygments_lexer": "ipython3",
   "version": "3.12.4"
  }
 },
 "nbformat": 4,
 "nbformat_minor": 2
}
