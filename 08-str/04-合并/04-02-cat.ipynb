{
 "cells": [
  {
   "cell_type": "markdown",
   "metadata": {},
   "source": [
    "映射字符串\n",
    "```python\n",
    "others : pd.DataFrame | pd.Series | pd.Index | iter\n",
    "# pd.DataFrame | pd.Series : 根据索引对齐连接\n",
    "# iter | pd.Index : 根据位置连接\n",
    "sep : str | None\n",
    "# str : 连接字符串\n",
    "# None : ''\n",
    "na_rep : str | None\n",
    "# str : 空值替换字符串\n",
    "# None : 跳过空白字符\n",
    "join : {'left', 'right', 'outer', 'inner'}\n",
    "# 'left' : 左连接\n",
    "# 'right' : 右连接\n",
    "# 'outer' : 外连接\n",
    "# 'inner' : 内连接\n",
    "\n",
    "pandas.Series.str.cat(others=None, sep=None, na_rep=None, join='left') -> pandas.Series | str\n",
    "pandas.Index.str.cat(others=None, sep=None, na_rep=None, join='left')  -> pandas.Index | str\n",
    "```\n"
   ]
  },
  {
   "cell_type": "code",
   "execution_count": 48,
   "metadata": {},
   "outputs": [
    {
     "data": {
      "text/plain": [
       "0      a\n",
       "1      b\n",
       "2      c\n",
       "3    NaN\n",
       "4      e\n",
       "dtype: object"
      ]
     },
     "execution_count": 48,
     "metadata": {},
     "output_type": "execute_result"
    }
   ],
   "source": [
    "import pandas as pd\n",
    "from numpy import nan\n",
    "\n",
    "s = pd.Series(['a', 'b', 'c', nan, 'e'])\n",
    "s"
   ]
  },
  {
   "cell_type": "code",
   "execution_count": 49,
   "metadata": {},
   "outputs": [
    {
     "data": {
      "text/plain": [
       "'a-b-c-e'"
      ]
     },
     "execution_count": 49,
     "metadata": {},
     "output_type": "execute_result"
    }
   ],
   "source": [
    "s.str.cat(sep='-')"
   ]
  },
  {
   "cell_type": "code",
   "execution_count": 50,
   "metadata": {},
   "outputs": [
    {
     "data": {
      "text/plain": [
       "'a-b-c-空-e'"
      ]
     },
     "execution_count": 50,
     "metadata": {},
     "output_type": "execute_result"
    }
   ],
   "source": [
    "s.str.cat(sep='-', na_rep='空')"
   ]
  },
  {
   "cell_type": "code",
   "execution_count": 51,
   "metadata": {},
   "outputs": [
    {
     "data": {
      "text/plain": [
       "0    a-A\n",
       "1    b-B\n",
       "2    c-C\n",
       "3    NaN\n",
       "4    e-E\n",
       "dtype: object"
      ]
     },
     "execution_count": 51,
     "metadata": {},
     "output_type": "execute_result"
    }
   ],
   "source": [
    "s.str.cat(['A', 'B', 'C', 'D', 'E'], '-')"
   ]
  },
  {
   "cell_type": "code",
   "execution_count": 52,
   "metadata": {},
   "outputs": [
    {
     "data": {
      "text/plain": [
       "0    a-A\n",
       "1    b-B\n",
       "2    c-C\n",
       "3    NaN\n",
       "4    e-E\n",
       "dtype: object"
      ]
     },
     "execution_count": 52,
     "metadata": {},
     "output_type": "execute_result"
    }
   ],
   "source": [
    "s.str.cat(pd.Index(['A', 'B', 'C', 'D', 'E']), '-')"
   ]
  },
  {
   "cell_type": "code",
   "execution_count": 53,
   "metadata": {},
   "outputs": [
    {
     "data": {
      "text/plain": [
       "0    a-A\n",
       "1    b-B\n",
       "2    c-C\n",
       "3    NaN\n",
       "4    e-D\n",
       "dtype: object"
      ]
     },
     "execution_count": 53,
     "metadata": {},
     "output_type": "execute_result"
    }
   ],
   "source": [
    "s_r = pd.Series({2: 'C', 1: 'B', 0: 'A', 4: 'D'})\n",
    "s.str.cat(s_r, '-')"
   ]
  },
  {
   "cell_type": "code",
   "execution_count": 54,
   "metadata": {},
   "outputs": [
    {
     "data": {
      "text/plain": [
       "0      a-A-one\n",
       "1      b-B-tow\n",
       "2    c-C-three\n",
       "3          NaN\n",
       "dtype: object"
      ]
     },
     "execution_count": 54,
     "metadata": {},
     "output_type": "execute_result"
    }
   ],
   "source": [
    "df_r = pd.DataFrame({'A': ['A', 'B', 'C', 'D'], 'B': ['one', 'tow', 'three', 'four']})\n",
    "s.str.cat(df_r, '-', join='right')"
   ]
  }
 ],
 "metadata": {
  "kernelspec": {
   "display_name": "Python 3",
   "language": "python",
   "name": "python3"
  },
  "language_info": {
   "codemirror_mode": {
    "name": "ipython",
    "version": 3
   },
   "file_extension": ".py",
   "mimetype": "text/x-python",
   "name": "python",
   "nbconvert_exporter": "python",
   "pygments_lexer": "ipython3",
   "version": "3.12.4"
  }
 },
 "nbformat": 4,
 "nbformat_minor": 2
}
