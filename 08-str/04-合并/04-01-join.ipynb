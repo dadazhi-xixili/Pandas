{
 "cells": [
  {
   "cell_type": "markdown",
   "metadata": {},
   "source": [
    "以指定的字符连接合并系列中的字符串序列。\n",
    "```python\n",
    "sep : str\n",
    "\n",
    "pandas.Series.str.join(sep) -> pandas.Series \n",
    "pandas.Index.str.join(sep) -> pandas.Index \n",
    "```\n"
   ]
  },
  {
   "cell_type": "code",
   "execution_count": 2,
   "metadata": {},
   "outputs": [
    {
     "data": {
      "text/plain": [
       "0    0    a\n",
       "1    b\n",
       "2    c\n",
       "dtype: object\n",
       "1                             [a, b, c]\n",
       "2                              [a, nan]\n",
       "3                                [a, 0]\n",
       "4                                 [nan]\n",
       "5                              [0, 0.1]\n",
       "dtype: object"
      ]
     },
     "execution_count": 2,
     "metadata": {},
     "output_type": "execute_result"
    }
   ],
   "source": [
    "import pandas as pd\n",
    "from numpy import nan\n",
    "\n",
    "s = pd.Series(\n",
    "    [\n",
    "        pd.Series(['a', 'b', 'c']), \n",
    "        ['a', 'b', 'c'], \n",
    "        ['a', nan], \n",
    "        ['a', 0], \n",
    "        [nan], \n",
    "        [0, 0.1]\n",
    "    ]\n",
    ")\n",
    "s"
   ]
  },
  {
   "cell_type": "code",
   "execution_count": 3,
   "metadata": {},
   "outputs": [
    {
     "data": {
      "text/plain": [
       "0    a-b-c\n",
       "1    a-b-c\n",
       "2      NaN\n",
       "3      NaN\n",
       "4      NaN\n",
       "5      NaN\n",
       "dtype: object"
      ]
     },
     "execution_count": 3,
     "metadata": {},
     "output_type": "execute_result"
    }
   ],
   "source": [
    "s.str.join('-')"
   ]
  }
 ],
 "metadata": {
  "kernelspec": {
   "display_name": "Python 3",
   "language": "python",
   "name": "python3"
  },
  "language_info": {
   "codemirror_mode": {
    "name": "ipython",
    "version": 3
   },
   "file_extension": ".py",
   "mimetype": "text/x-python",
   "name": "python",
   "nbconvert_exporter": "python",
   "pygments_lexer": "ipython3",
   "version": "3.12.4"
  }
 },
 "nbformat": 4,
 "nbformat_minor": 2
}
