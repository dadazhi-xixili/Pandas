{
 "cells": [
  {
   "cell_type": "markdown",
   "metadata": {},
   "source": [
    "返回对象数量\n",
    "```python\n",
    "pandas.Series.str.len() -> pandas.Series \n",
    "pandas.Index.str.len() -> pandas.Index \n",
    "```\n"
   ]
  },
  {
   "cell_type": "code",
   "execution_count": 3,
   "metadata": {},
   "outputs": [
    {
     "data": {
      "text/plain": [
       "0                                  abc\n",
       "1                                     \n",
       "2    0    1\n",
       "1    2\n",
       "2    3\n",
       "dtype: int64\n",
       "3                            [1, 2, 3]\n",
       "4                         {1: 1, 2: 2}\n",
       "5                                  NaN\n",
       "dtype: object"
      ]
     },
     "execution_count": 3,
     "metadata": {},
     "output_type": "execute_result"
    }
   ],
   "source": [
    "import pandas as pd\n",
    "from numpy import nan\n",
    "\n",
    "s = pd.Series(['abc', '', pd.Series([1, 2, 3]), [1, 2, 3], {1: 1, 2: 2}, nan])\n",
    "s"
   ]
  },
  {
   "cell_type": "code",
   "execution_count": 4,
   "metadata": {},
   "outputs": [
    {
     "data": {
      "text/plain": [
       "0    3.0\n",
       "1    0.0\n",
       "2    3.0\n",
       "3    3.0\n",
       "4    2.0\n",
       "5    NaN\n",
       "dtype: float64"
      ]
     },
     "execution_count": 4,
     "metadata": {},
     "output_type": "execute_result"
    }
   ],
   "source": [
    "s.str.len()"
   ]
  }
 ],
 "metadata": {
  "kernelspec": {
   "display_name": "Python 3",
   "language": "python",
   "name": "python3"
  },
  "language_info": {
   "codemirror_mode": {
    "name": "ipython",
    "version": 3
   },
   "file_extension": ".py",
   "mimetype": "text/x-python",
   "name": "python",
   "nbconvert_exporter": "python",
   "pygments_lexer": "ipython3",
   "version": "3.12.4"
  }
 },
 "nbformat": 4,
 "nbformat_minor": 2
}
