{
 "cells": [
  {
   "cell_type": "markdown",
   "metadata": {},
   "source": [
    "替换字符串,可使用正则表达式\n",
    "```python\n",
    "pat : str | function\n",
    "# str : 匹配字符串 或 正则表达式模式\n",
    "# function : re的编译对象\n",
    "repl : str | function\n",
    "# str : 替换字符串 或 正则表达式替换模式\n",
    "# function : re的编译对象\n",
    "n : int\n",
    "# int : 替换次数\n",
    "case : bool, None\n",
    "# bool : 是否区分大小写\n",
    "# 正则表达式模式下无效\n",
    "flags : int\n",
    "# int : 正则表达式标志\n",
    "# pat参数为编译后的对象时，此参数无效\n",
    "regex : bool\n",
    "# bool : 是否使用正则表达式模式\n",
    "\n",
    "pandas.Series.str.replace(pat, repl, n=-1, case=None, flags=0, regex=False)\n",
    "pandas.Index.str.replace(pat, repl, n=-1, case=None, flags=0, regex=False)\n",
    "```\n"
   ]
  },
  {
   "cell_type": "code",
   "execution_count": 2,
   "metadata": {},
   "outputs": [
    {
     "data": {
      "text/plain": [
       "0    abc\n",
       "1    acc\n",
       "2    adc\n",
       "dtype: object"
      ]
     },
     "execution_count": 2,
     "metadata": {},
     "output_type": "execute_result"
    }
   ],
   "source": [
    "import pandas as pd\n",
    "import re\n",
    "\n",
    "s = pd.Series(['abc', 'acc', 'adc'])\n",
    "s"
   ]
  },
  {
   "cell_type": "code",
   "execution_count": 3,
   "metadata": {},
   "outputs": [
    {
     "data": {
      "text/plain": [
       "0    abC\n",
       "1    aCc\n",
       "2    adC\n",
       "dtype: object"
      ]
     },
     "execution_count": 3,
     "metadata": {},
     "output_type": "execute_result"
    }
   ],
   "source": [
    "s.str.replace('c','C',n=1)"
   ]
  },
  {
   "cell_type": "code",
   "execution_count": 4,
   "metadata": {},
   "outputs": [
    {
     "data": {
      "text/plain": [
       "0    abc\n",
       "1    acc\n",
       "2    adc\n",
       "dtype: object"
      ]
     },
     "execution_count": 4,
     "metadata": {},
     "output_type": "execute_result"
    }
   ],
   "source": [
    "s.str.replace(r'.$', 'C')"
   ]
  },
  {
   "cell_type": "code",
   "execution_count": 5,
   "metadata": {},
   "outputs": [
    {
     "data": {
      "text/plain": [
       "0    abC\n",
       "1    acC\n",
       "2    adC\n",
       "dtype: object"
      ]
     },
     "execution_count": 5,
     "metadata": {},
     "output_type": "execute_result"
    }
   ],
   "source": [
    "s.str.replace(r'.$', 'C', regex=True)"
   ]
  },
  {
   "cell_type": "code",
   "execution_count": 6,
   "metadata": {},
   "outputs": [
    {
     "data": {
      "text/plain": [
       "0    abc\n",
       "1    acC\n",
       "2    adc\n",
       "dtype: object"
      ]
     },
     "execution_count": 6,
     "metadata": {},
     "output_type": "execute_result"
    }
   ],
   "source": [
    "s.str.replace(r'(c.*)(c)',r'\\1C', regex=True)"
   ]
  },
  {
   "cell_type": "code",
   "execution_count": 7,
   "metadata": {},
   "outputs": [
    {
     "data": {
      "text/plain": [
       "0    ?bc\n",
       "1    ?cc\n",
       "2    ?dc\n",
       "dtype: object"
      ]
     },
     "execution_count": 7,
     "metadata": {},
     "output_type": "execute_result"
    }
   ],
   "source": [
    "my_compile = re.compile(r'^.')\n",
    "s.str.replace(my_compile, '?', regex=True)"
   ]
  },
  {
   "cell_type": "code",
   "execution_count": 8,
   "metadata": {},
   "outputs": [
    {
     "data": {
      "text/plain": [
       "0    AbC\n",
       "1    AcC\n",
       "2    AdC\n",
       "dtype: object"
      ]
     },
     "execution_count": 8,
     "metadata": {},
     "output_type": "execute_result"
    }
   ],
   "source": [
    "my_func = lambda x: x.group(1).upper() + x.group(2) + x.group(3).upper()\n",
    "s.str.replace(r'(.)(.)(.)', my_func, regex=True)"
   ]
  }
 ],
 "metadata": {
  "kernelspec": {
   "display_name": "Python 3",
   "language": "python",
   "name": "python3"
  },
  "language_info": {
   "codemirror_mode": {
    "name": "ipython",
    "version": 3
   },
   "file_extension": ".py",
   "mimetype": "text/x-python",
   "name": "python",
   "nbconvert_exporter": "python",
   "pygments_lexer": "ipython3",
   "version": "3.12.4"
  }
 },
 "nbformat": 4,
 "nbformat_minor": 2
}
