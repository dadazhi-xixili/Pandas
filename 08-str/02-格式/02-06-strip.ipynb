{
 "cells": [
  {
   "cell_type": "markdown",
   "metadata": {},
   "source": [
    "去除字符串首尾`to_strip`参数指定的字符。  \n",
    "默认为空白符号。\n",
    "```python\n",
    "to_strip: str | None\n",
    "\n",
    "pandas.Series.str.strip(to_strip=None) -> pandas.Series \n",
    "pandas.Index.str.strip(to_strip=None) -> pandas.Index \n",
    "```\n"
   ]
  },
  {
   "cell_type": "code",
   "execution_count": 15,
   "metadata": {},
   "outputs": [
    {
     "data": {
      "text/plain": [
       "0    1. Ant.  \n",
       "1    2. Bee!\\n\n",
       "2    3. Cat?\\t\n",
       "3          NaN\n",
       "4           10\n",
       "5         True\n",
       "dtype: object"
      ]
     },
     "execution_count": 15,
     "metadata": {},
     "output_type": "execute_result"
    }
   ],
   "source": [
    "import pandas as pd\n",
    "from numpy import nan\n",
    "\n",
    "s = pd.Series(['1. Ant.  ', '2. Bee!\\n', '3. Cat?\\t', nan, 10, True])\n",
    "s"
   ]
  },
  {
   "cell_type": "code",
   "execution_count": 16,
   "metadata": {},
   "outputs": [
    {
     "data": {
      "text/plain": [
       "0    1. Ant.\n",
       "1    2. Bee!\n",
       "2    3. Cat?\n",
       "3        NaN\n",
       "4        NaN\n",
       "5        NaN\n",
       "dtype: object"
      ]
     },
     "execution_count": 16,
     "metadata": {},
     "output_type": "execute_result"
    }
   ],
   "source": [
    "s.str.strip()"
   ]
  },
  {
   "cell_type": "code",
   "execution_count": 17,
   "metadata": {},
   "outputs": [
    {
     "data": {
      "text/plain": [
       "Index(['1. Ant.  ', '2. Bee!\\n', '3. Cat?\\t', nan, 10, True], dtype='object')"
      ]
     },
     "execution_count": 17,
     "metadata": {},
     "output_type": "execute_result"
    }
   ],
   "source": [
    "i = pd.Index(s)\n",
    "i"
   ]
  },
  {
   "cell_type": "code",
   "execution_count": 20,
   "metadata": {},
   "outputs": [
    {
     "data": {
      "text/plain": [
       "Index(['Ant', 'Bee', 'Cat', nan, nan, nan], dtype='object')"
      ]
     },
     "execution_count": 20,
     "metadata": {},
     "output_type": "execute_result"
    }
   ],
   "source": [
    "i.str.strip('n123.!? \\n\\t')"
   ]
  }
 ],
 "metadata": {
  "kernelspec": {
   "display_name": "Python 3",
   "language": "python",
   "name": "python3"
  },
  "language_info": {
   "codemirror_mode": {
    "name": "ipython",
    "version": 3
   },
   "file_extension": ".py",
   "mimetype": "text/x-python",
   "name": "python",
   "nbconvert_exporter": "python",
   "pygments_lexer": "ipython3",
   "version": "3.12.4"
  }
 },
 "nbformat": 4,
 "nbformat_minor": 2
}
