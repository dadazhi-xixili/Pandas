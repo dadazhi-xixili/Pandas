{
 "cells": [
  {
   "cell_type": "markdown",
   "metadata": {},
   "source": [
    "# `pandas.ExcelFile` 参数说明\n",
    "\n",
    "## io: \n",
    "1. str: 文件路径 | url\n",
    "0. openpyxl.workbook:   workbook对象\n",
    "0. xlrd.book:   book对象\n",
    "## engine:\n",
    "1. openpyxl\n",
    "0. xlrd\n",
    "0. pyxlsb\n",
    "0. odf\n",
    "\n",
    "## 方法：\n",
    "1. parse()  参考pandas.read_excel\n",
    "0. sheet_names 返回sheet名称列表\n",
    "0. close() 关闭文件\n",
    "0. engine 返回文件引擎\n",
    "0. io 返回 文件路径 | 引用对象"
   ]
  },
  {
   "cell_type": "code",
   "execution_count": 22,
   "metadata": {},
   "outputs": [],
   "source": [
    "import pandas as pd\n",
    "import pyxlsb, xlrd, openpyxl"
   ]
  },
  {
   "cell_type": "code",
   "execution_count": 91,
   "metadata": {},
   "outputs": [],
   "source": [
    "# xls\n",
    "xlrd_file=xlrd.open_workbook(r'..\\0-data\\student_excel\\student_excel.xls')\n",
    "pandas_xlrd_file=pd.ExcelFile(\n",
    "    xlrd_file,\n",
    "    engine='xlrd'\n",
    "    )\n",
    "\n",
    "# xlsx\n",
    "openpyxl_file=openpyxl.load_workbook(r'..\\0-data\\student_excel\\student_excel.xlsx')\n",
    "pandas_openpyxl_file=pd.ExcelFile(\n",
    "    openpyxl_file,\n",
    "    engine='openpyxl'\n",
    "    )\n",
    "\n",
    "# xlsb\n",
    "pyxlsb_file=pyxlsb.open_workbook(r'..\\0-data\\student_excel\\student_excel.xlsb')\n",
    "pandas_pyxlsb_file=pd.ExcelFile(\n",
    "    pyxlsb_file,\n",
    "    engine='pyxlsb'\n",
    "    )\n",
    "\n",
    "# path\n",
    "pandas_path_file=pd.ExcelFile(\n",
    "    r'..\\0-data\\student_excel\\student_excel.xlsx',\n",
    "    engine='openpyxl'\n",
    "    )\n",
    "\n",
    "# url\n",
    "pandas_url_file=pd.ExcelFile(\n",
    "    'https://download.samplelib.com/xls/sample-simple-2.xls',\n",
    "    engine=None,#默认值 自动识别引擎\n",
    "    )"
   ]
  },
  {
   "cell_type": "code",
   "execution_count": 60,
   "metadata": {},
   "outputs": [
    {
     "data": {
      "text/plain": [
       "<pandas.io.excel._base.ExcelFile at 0x16804ceb650>"
      ]
     },
     "execution_count": 60,
     "metadata": {},
     "output_type": "execute_result"
    }
   ],
   "source": [
    "pandas_pyxlsb_file\n",
    "pandas_openpyxl_file"
   ]
  },
  {
   "cell_type": "code",
   "execution_count": 71,
   "metadata": {},
   "outputs": [],
   "source": [
    "df1=pd.read_excel(\n",
    "    pandas_path_file,# pandas_pyxlsb_file | pandas_openpyxl_file | pandas_xlrd_file\n",
    "    engine='openpyxl',# openpyxl | xlrd | pyxlsb\n",
    "    sheet_name='Sheet1',\n",
    "    usecols='B:D',\n",
    "    header=2\n",
    "    )\n",
    "\n",
    "with pd.ExcelFile(r'..\\0-data\\student_excel\\student_excel.xlsx') as xlsx:\n",
    "    df2=xlsx.parse(\n",
    "        sheet_name='Sheet1',\n",
    "        usecols='B:D',\n",
    "        header=2\n",
    "        )"
   ]
  },
  {
   "cell_type": "code",
   "execution_count": 72,
   "metadata": {},
   "outputs": [
    {
     "data": {
      "text/html": [
       "<div>\n",
       "<style scoped>\n",
       "    .dataframe tbody tr th:only-of-type {\n",
       "        vertical-align: middle;\n",
       "    }\n",
       "\n",
       "    .dataframe tbody tr th {\n",
       "        vertical-align: top;\n",
       "    }\n",
       "\n",
       "    .dataframe thead th {\n",
       "        text-align: right;\n",
       "    }\n",
       "</style>\n",
       "<table border=\"1\" class=\"dataframe\">\n",
       "  <thead>\n",
       "    <tr style=\"text-align: right;\">\n",
       "      <th></th>\n",
       "      <th>姓名</th>\n",
       "      <th>科目</th>\n",
       "      <th>分数</th>\n",
       "    </tr>\n",
       "  </thead>\n",
       "  <tbody>\n",
       "    <tr>\n",
       "      <th>0</th>\n",
       "      <td>小明</td>\n",
       "      <td>语文</td>\n",
       "      <td>85.0</td>\n",
       "    </tr>\n",
       "    <tr>\n",
       "      <th>1</th>\n",
       "      <td>NaN</td>\n",
       "      <td>数学</td>\n",
       "      <td>80.0</td>\n",
       "    </tr>\n",
       "    <tr>\n",
       "      <th>2</th>\n",
       "      <td>NaN</td>\n",
       "      <td>英语</td>\n",
       "      <td>90.0</td>\n",
       "    </tr>\n",
       "    <tr>\n",
       "      <th>3</th>\n",
       "      <td>NaN</td>\n",
       "      <td>NaN</td>\n",
       "      <td>NaN</td>\n",
       "    </tr>\n",
       "    <tr>\n",
       "      <th>4</th>\n",
       "      <td>小王</td>\n",
       "      <td>语文</td>\n",
       "      <td>85.0</td>\n",
       "    </tr>\n",
       "  </tbody>\n",
       "</table>\n",
       "</div>"
      ],
      "text/plain": [
       "    姓名   科目    分数\n",
       "0   小明   语文  85.0\n",
       "1  NaN   数学  80.0\n",
       "2  NaN   英语  90.0\n",
       "3  NaN  NaN   NaN\n",
       "4   小王   语文  85.0"
      ]
     },
     "execution_count": 72,
     "metadata": {},
     "output_type": "execute_result"
    }
   ],
   "source": [
    "df1.head()"
   ]
  },
  {
   "cell_type": "code",
   "execution_count": 73,
   "metadata": {},
   "outputs": [
    {
     "data": {
      "text/html": [
       "<div>\n",
       "<style scoped>\n",
       "    .dataframe tbody tr th:only-of-type {\n",
       "        vertical-align: middle;\n",
       "    }\n",
       "\n",
       "    .dataframe tbody tr th {\n",
       "        vertical-align: top;\n",
       "    }\n",
       "\n",
       "    .dataframe thead th {\n",
       "        text-align: right;\n",
       "    }\n",
       "</style>\n",
       "<table border=\"1\" class=\"dataframe\">\n",
       "  <thead>\n",
       "    <tr style=\"text-align: right;\">\n",
       "      <th></th>\n",
       "      <th>姓名</th>\n",
       "      <th>科目</th>\n",
       "      <th>分数</th>\n",
       "    </tr>\n",
       "  </thead>\n",
       "  <tbody>\n",
       "    <tr>\n",
       "      <th>0</th>\n",
       "      <td>小明</td>\n",
       "      <td>语文</td>\n",
       "      <td>85.0</td>\n",
       "    </tr>\n",
       "    <tr>\n",
       "      <th>1</th>\n",
       "      <td>NaN</td>\n",
       "      <td>数学</td>\n",
       "      <td>80.0</td>\n",
       "    </tr>\n",
       "    <tr>\n",
       "      <th>2</th>\n",
       "      <td>NaN</td>\n",
       "      <td>英语</td>\n",
       "      <td>90.0</td>\n",
       "    </tr>\n",
       "    <tr>\n",
       "      <th>3</th>\n",
       "      <td>NaN</td>\n",
       "      <td>NaN</td>\n",
       "      <td>NaN</td>\n",
       "    </tr>\n",
       "    <tr>\n",
       "      <th>4</th>\n",
       "      <td>小王</td>\n",
       "      <td>语文</td>\n",
       "      <td>85.0</td>\n",
       "    </tr>\n",
       "  </tbody>\n",
       "</table>\n",
       "</div>"
      ],
      "text/plain": [
       "    姓名   科目    分数\n",
       "0   小明   语文  85.0\n",
       "1  NaN   数学  80.0\n",
       "2  NaN   英语  90.0\n",
       "3  NaN  NaN   NaN\n",
       "4   小王   语文  85.0"
      ]
     },
     "execution_count": 73,
     "metadata": {},
     "output_type": "execute_result"
    }
   ],
   "source": [
    "df2.head()"
   ]
  },
  {
   "cell_type": "code",
   "execution_count": 90,
   "metadata": {},
   "outputs": [
    {
     "name": "stdout",
     "output_type": "stream",
     "text": [
      "['Sheet1']\n",
      "---\n",
      "..\\0-data\\student_excel\\student_excel.xlsx\n",
      "---\n",
      "openpyxl\n"
     ]
    }
   ],
   "source": [
    "print(\n",
    "    pandas_path_file.sheet_names,\n",
    "    pandas_path_file.io,\n",
    "    pandas_path_file.engine,\n",
    "    sep='\\n---\\n'\n",
    ")"
   ]
  },
  {
   "cell_type": "code",
   "execution_count": 77,
   "metadata": {},
   "outputs": [],
   "source": [
    "pandas_openpyxl_file.close()\n",
    "pandas_pyxlsb_file.close()\n",
    "pandas_xlrd_file.close()\n",
    "pandas_path_file.close()"
   ]
  }
 ],
 "metadata": {
  "kernelspec": {
   "display_name": "Python 3",
   "language": "python",
   "name": "python3"
  },
  "language_info": {
   "codemirror_mode": {
    "name": "ipython",
    "version": 3
   },
   "file_extension": ".py",
   "mimetype": "text/x-python",
   "name": "python",
   "nbconvert_exporter": "python",
   "pygments_lexer": "ipython3",
   "version": "3.12.4"
  }
 },
 "nbformat": 4,
 "nbformat_minor": 2
}
